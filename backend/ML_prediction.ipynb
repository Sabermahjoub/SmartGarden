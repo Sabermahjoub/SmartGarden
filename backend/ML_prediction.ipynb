{
 "cells": [
  {
   "cell_type": "code",
   "execution_count": 11,
   "metadata": {},
   "outputs": [
    {
     "name": "stdout",
     "output_type": "stream",
     "text": [
      "Prediction: {'prediction': 1, 'probabilities': {'class_0': 0.37641837176371895, 'class_1': 0.623581628236281}}\n"
     ]
    }
   ],
   "source": [
    "# Step 1: Import necessary libraries\n",
    "import os\n",
    "import numpy as np\n",
    "import pandas as pd\n",
    "from sklearn.model_selection import train_test_split\n",
    "from sklearn.linear_model import LogisticRegressionCV\n",
    "import joblib\n",
    "\n",
    "# Step 2: Load and preprocess data\n",
    "current_dir = os.getcwd()\n",
    "path = os.path.join(current_dir, './plant_growth_data.csv')\n",
    "data = pd.read_csv(path, encoding=\"ISO-8859-1\")\n",
    "df = data.copy()\n",
    "\n",
    "def preprocessing(df):\n",
    "    for i in list(df.columns):\n",
    "        if pd.api.types.is_object_dtype(df[i]):\n",
    "            df[i] = df[i].astype('category')\n",
    "            df[i] = df[i].cat.codes\n",
    "\n",
    "    X = df.drop('Growth_Milestone', axis=1)\n",
    "    y = df['Growth_Milestone']\n",
    "    return X, y\n",
    "\n",
    "trainset, testset = train_test_split(df, test_size=0.2, random_state=0)\n",
    "X_train, y_train = preprocessing(trainset)\n",
    "X_test, y_test = preprocessing(testset)\n",
    "\n",
    "# Step 3: Train the model\n",
    "clf = LogisticRegressionCV(cv=10, random_state=0, scoring='accuracy', penalty='l2').fit(X_train, y_train)\n",
    "\n",
    "# Save the trained model\n",
    "model_path = os.path.join(current_dir, 'ml_model.pkl')\n",
    "joblib.dump(clf, model_path)\n",
    "\n",
    "def predict(data_array):\n",
    "    # Load the saved model\n",
    "    model = joblib.load(model_path)\n",
    "    \n",
    "    # Create a DataFrame for input data with feature names\n",
    "    feature_names = list(X_train.columns)  # Assuming X_train was used for training\n",
    "    data_df = pd.DataFrame([data_array], columns=feature_names)\n",
    "    \n",
    "    # Get the predicted class\n",
    "    predicted_class = model.predict(data_df)[0]\n",
    "    \n",
    "    # Get the probabilities for each class\n",
    "    probabilities = model.predict_proba(data_df)[0]\n",
    "    \n",
    "    # Return prediction and probabilities as a dictionary\n",
    "    return {\n",
    "        \"prediction\": int(predicted_class),\n",
    "        \"probabilities\": {f\"class_{i}\": float(prob) for i, prob in enumerate(probabilities)}\n",
    "    }\n",
    "\n",
    "\n",
    "# Test the prediction function\n",
    "test_data = [1, 2, 3, 4, 5, 6]  # Example input\n",
    "print(f\"Prediction: {predict(test_data)}\")"
   ]
  }
 ],
 "metadata": {
  "kernelspec": {
   "display_name": "Python 3",
   "language": "python",
   "name": "python3"
  },
  "language_info": {
   "codemirror_mode": {
    "name": "ipython",
    "version": 3
   },
   "file_extension": ".py",
   "mimetype": "text/x-python",
   "name": "python",
   "nbconvert_exporter": "python",
   "pygments_lexer": "ipython3",
   "version": "3.10.5"
  }
 },
 "nbformat": 4,
 "nbformat_minor": 2
}
