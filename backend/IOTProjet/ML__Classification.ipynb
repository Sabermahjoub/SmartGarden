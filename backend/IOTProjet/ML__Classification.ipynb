{
 "cells": [
  {
   "cell_type": "code",
   "execution_count": 1,
   "id": "438c1f20-44ed-44f5-9bf2-09b84eb18d13",
   "metadata": {},
   "outputs": [],
   "source": [
    "import numpy as np\n",
    "import pandas as pd\n",
    "import matplotlib as plt\n",
    "import matplotlib.pyplot as plt\n",
    "import seaborn as sns"
   ]
  },
  {
   "cell_type": "code",
   "execution_count": 5,
   "id": "569020b3-c506-4fa4-be6f-fa80e550b276",
   "metadata": {},
   "outputs": [],
   "source": [
    "from sklearn.metrics import f1_score, confusion_matrix, classification_report\n",
    "from sklearn.model_selection import learning_curve\n",
    "\n",
    "from sklearn.tree import DecisionTreeClassifier\n",
    "from sklearn.ensemble import RandomForestClassifier, AdaBoostClassifier\n",
    "from sklearn.svm import SVC\n",
    "from sklearn.neighbors import KNeighborsClassifier\n",
    "from sklearn.pipeline import make_pipeline\n",
    "from sklearn.feature_selection import SelectKBest, f_classif\n",
    "from sklearn.preprocessing import PolynomialFeatures, StandardScaler"
   ]
  },
  {
   "cell_type": "code",
   "execution_count": 7,
   "id": "ecebaf9d-ac10-4e69-9291-abb6fe8043ac",
   "metadata": {},
   "outputs": [],
   "source": [
    "path= 'C:/Users/bensa/deeplearningProjet1/IOTProjet/plant_growth_data.csv'\n",
    "data = pd.read_csv(path,  encoding = \"ISO-8859-1\")"
   ]
  },
  {
   "cell_type": "code",
   "execution_count": 9,
   "id": "c28e15bd-2de1-4b3e-8049-6a70369a9f8c",
   "metadata": {},
   "outputs": [
    {
     "data": {
      "text/html": [
       "<div>\n",
       "<style scoped>\n",
       "    .dataframe tbody tr th:only-of-type {\n",
       "        vertical-align: middle;\n",
       "    }\n",
       "\n",
       "    .dataframe tbody tr th {\n",
       "        vertical-align: top;\n",
       "    }\n",
       "\n",
       "    .dataframe thead th {\n",
       "        text-align: right;\n",
       "    }\n",
       "</style>\n",
       "<table border=\"1\" class=\"dataframe\">\n",
       "  <thead>\n",
       "    <tr style=\"text-align: right;\">\n",
       "      <th></th>\n",
       "      <th>Soil_Type</th>\n",
       "      <th>Sunlight_Hours</th>\n",
       "      <th>Water_Frequency</th>\n",
       "      <th>Fertilizer_Type</th>\n",
       "      <th>Temperature</th>\n",
       "      <th>Humidity</th>\n",
       "      <th>Growth_Milestone</th>\n",
       "    </tr>\n",
       "  </thead>\n",
       "  <tbody>\n",
       "    <tr>\n",
       "      <th>0</th>\n",
       "      <td>loam</td>\n",
       "      <td>5.192294</td>\n",
       "      <td>bi-weekly</td>\n",
       "      <td>chemical</td>\n",
       "      <td>31.719602</td>\n",
       "      <td>61.591861</td>\n",
       "      <td>0</td>\n",
       "    </tr>\n",
       "    <tr>\n",
       "      <th>1</th>\n",
       "      <td>sandy</td>\n",
       "      <td>4.033133</td>\n",
       "      <td>weekly</td>\n",
       "      <td>organic</td>\n",
       "      <td>28.919484</td>\n",
       "      <td>52.422276</td>\n",
       "      <td>1</td>\n",
       "    </tr>\n",
       "    <tr>\n",
       "      <th>2</th>\n",
       "      <td>loam</td>\n",
       "      <td>8.892769</td>\n",
       "      <td>bi-weekly</td>\n",
       "      <td>none</td>\n",
       "      <td>23.179059</td>\n",
       "      <td>44.660539</td>\n",
       "      <td>0</td>\n",
       "    </tr>\n",
       "    <tr>\n",
       "      <th>3</th>\n",
       "      <td>loam</td>\n",
       "      <td>8.241144</td>\n",
       "      <td>bi-weekly</td>\n",
       "      <td>none</td>\n",
       "      <td>18.465886</td>\n",
       "      <td>46.433227</td>\n",
       "      <td>0</td>\n",
       "    </tr>\n",
       "    <tr>\n",
       "      <th>4</th>\n",
       "      <td>sandy</td>\n",
       "      <td>8.374043</td>\n",
       "      <td>bi-weekly</td>\n",
       "      <td>organic</td>\n",
       "      <td>18.128741</td>\n",
       "      <td>63.625923</td>\n",
       "      <td>0</td>\n",
       "    </tr>\n",
       "  </tbody>\n",
       "</table>\n",
       "</div>"
      ],
      "text/plain": [
       "  Soil_Type  Sunlight_Hours Water_Frequency Fertilizer_Type  Temperature  \\\n",
       "0      loam        5.192294       bi-weekly        chemical    31.719602   \n",
       "1     sandy        4.033133          weekly         organic    28.919484   \n",
       "2      loam        8.892769       bi-weekly            none    23.179059   \n",
       "3      loam        8.241144       bi-weekly            none    18.465886   \n",
       "4     sandy        8.374043       bi-weekly         organic    18.128741   \n",
       "\n",
       "    Humidity  Growth_Milestone  \n",
       "0  61.591861                 0  \n",
       "1  52.422276                 1  \n",
       "2  44.660539                 0  \n",
       "3  46.433227                 0  \n",
       "4  63.625923                 0  "
      ]
     },
     "execution_count": 9,
     "metadata": {},
     "output_type": "execute_result"
    }
   ],
   "source": [
    "data.head()"
   ]
  },
  {
   "cell_type": "code",
   "execution_count": 11,
   "id": "0e8cf286-7a5d-472e-8591-1d39029914fa",
   "metadata": {},
   "outputs": [],
   "source": [
    "df=data.copy()"
   ]
  },
  {
   "cell_type": "code",
   "execution_count": 13,
   "id": "4922dd89-7628-48a3-8031-971feee61d96",
   "metadata": {},
   "outputs": [
    {
     "name": "stdout",
     "output_type": "stream",
     "text": [
      "<class 'pandas.core.frame.DataFrame'>\n",
      "RangeIndex: 193 entries, 0 to 192\n",
      "Data columns (total 7 columns):\n",
      " #   Column            Non-Null Count  Dtype  \n",
      "---  ------            --------------  -----  \n",
      " 0   Soil_Type         193 non-null    object \n",
      " 1   Sunlight_Hours    193 non-null    float64\n",
      " 2   Water_Frequency   193 non-null    object \n",
      " 3   Fertilizer_Type   193 non-null    object \n",
      " 4   Temperature       193 non-null    float64\n",
      " 5   Humidity          193 non-null    float64\n",
      " 6   Growth_Milestone  193 non-null    int64  \n",
      "dtypes: float64(3), int64(1), object(3)\n",
      "memory usage: 10.7+ KB\n"
     ]
    }
   ],
   "source": [
    "df.info()"
   ]
  },
  {
   "cell_type": "markdown",
   "id": "71d67f7d-7b47-462d-aa18-40a6cbf0c9e3",
   "metadata": {},
   "source": [
    "# 1 : Exploratory Data Analysis\n"
   ]
  },
  {
   "cell_type": "code",
   "execution_count": 16,
   "id": "c37688e1-c351-4d7d-bbff-ee68c1abbdf9",
   "metadata": {},
   "outputs": [],
   "source": [
    "df = data.copy()"
   ]
  },
  {
   "cell_type": "code",
   "execution_count": 18,
   "id": "266ecf62-963b-4878-9c44-640ba2d6c005",
   "metadata": {},
   "outputs": [
    {
     "data": {
      "text/plain": [
       "(193, 7)"
      ]
     },
     "execution_count": 18,
     "metadata": {},
     "output_type": "execute_result"
    }
   ],
   "source": [
    "df.shape"
   ]
  },
  {
   "cell_type": "code",
   "execution_count": 20,
   "id": "d0d93b32-7343-4ba6-a761-ba126a0775b2",
   "metadata": {},
   "outputs": [
    {
     "data": {
      "text/plain": [
       "<Axes: ylabel='count'>"
      ]
     },
     "execution_count": 20,
     "metadata": {},
     "output_type": "execute_result"
    },
    {
     "data": {
      "image/png": "[encoded data removed]",
      "text/plain": [
       "<Figure size 640x480 with 1 Axes>"
      ]
     },
     "metadata": {},
     "output_type": "display_data"
    }
   ],
   "source": [
    "#Types de données\n",
    "df.dtypes.value_counts().plot.pie()"
   ]
  },
  {
   "cell_type": "code",
   "execution_count": 22,
   "id": "5fb30f0c-3b55-4182-aaa3-2a7db7461eb3",
   "metadata": {
    "scrolled": true
   },
   "outputs": [],
   "source": [
    "# # Afficher une carte thermique des valeurs manquantes dans un DataFrame :  ( pas de valeurs manquantes )\n",
    "\n",
    "# plt.figure(figsize=(20,10))\n",
    "# sns.heatmap(df.isna(), cbar = True)"
   ]
  },
  {
   "cell_type": "code",
   "execution_count": 24,
   "id": "22490f0e-eb79-4f30-93e3-61d2063e0406",
   "metadata": {},
   "outputs": [
    {
     "data": {
      "text/plain": [
       "Soil_Type           0.0\n",
       "Sunlight_Hours      0.0\n",
       "Water_Frequency     0.0\n",
       "Fertilizer_Type     0.0\n",
       "Temperature         0.0\n",
       "Humidity            0.0\n",
       "Growth_Milestone    0.0\n",
       "dtype: float64"
      ]
     },
     "execution_count": 24,
     "metadata": {},
     "output_type": "execute_result"
    }
   ],
   "source": [
    "(df.isna().sum()/df.shape[0]).sort_values(ascending=True)    # pourcentage de valeurs manquante pour chaque colonnes pour effacer ceux qui sont presque vide "
   ]
  },
  {
   "cell_type": "markdown",
   "id": "74925dbe-f686-4cdc-b938-037d650cd564",
   "metadata": {},
   "source": [
    "# Analyse du Fond\n",
    "### Examen de la colonne target\n"
   ]
  },
  {
   "cell_type": "code",
   "execution_count": 27,
   "id": "200b7c5b-3a5c-4359-92c0-af9feeafb237",
   "metadata": {},
   "outputs": [
    {
     "data": {
      "text/plain": [
       "Growth_Milestone\n",
       "0    0.502591\n",
       "1    0.497409\n",
       "Name: proportion, dtype: float64"
      ]
     },
     "execution_count": 27,
     "metadata": {},
     "output_type": "execute_result"
    }
   ],
   "source": [
    "df['Growth_Milestone'].value_counts(normalize=True)"
   ]
  },
  {
   "cell_type": "markdown",
   "id": "ed8b8da4-b865-46ab-8912-848aa9101fa2",
   "metadata": {},
   "source": [
    "### histogrames des variables continues"
   ]
  },
  {
   "cell_type": "code",
   "execution_count": 30,
   "id": "c53e6238-77cd-4bea-981c-635e036d6cb0",
   "metadata": {},
   "outputs": [
    {
     "name": "stderr",
     "output_type": "stream",
     "text": [
      "C:\\Users\\bensa\\AppData\\Local\\Temp\\ipykernel_8160\\2417630899.py:3: UserWarning: \n",
      "\n",
      "`distplot` is a deprecated function and will be removed in seaborn v0.14.0.\n",
      "\n",
      "Please adapt your code to use either `displot` (a figure-level function with\n",
      "similar flexibility) or `histplot` (an axes-level function for histograms).\n",
      "\n",
      "For a guide to updating your code to use the new functions, please see\n",
      "https://gist.github.com/mwaskom/de44147ed2974457ad6372750bbe5751\n",
      "\n",
      "  sns.distplot(df[col])\n",
      "C:\\Users\\bensa\\AppData\\Local\\Temp\\ipykernel_8160\\2417630899.py:3: UserWarning: \n",
      "\n",
      "`distplot` is a deprecated function and will be removed in seaborn v0.14.0.\n",
      "\n",
      "Please adapt your code to use either `displot` (a figure-level function with\n",
      "similar flexibility) or `histplot` (an axes-level function for histograms).\n",
      "\n",
      "For a guide to updating your code to use the new functions, please see\n",
      "https://gist.github.com/mwaskom/de44147ed2974457ad6372750bbe5751\n",
      "\n",
      "  sns.distplot(df[col])\n",
      "C:\\Users\\bensa\\AppData\\Local\\Temp\\ipykernel_8160\\2417630899.py:3: UserWarning: \n",
      "\n",
      "`distplot` is a deprecated function and will be removed in seaborn v0.14.0.\n",
      "\n",
      "Please adapt your code to use either `displot` (a figure-level function with\n",
      "similar flexibility) or `histplot` (an axes-level function for histograms).\n",
      "\n",
      "For a guide to updating your code to use the new functions, please see\n",
      "https://gist.github.com/mwaskom/de44147ed2974457ad6372750bbe5751\n",
      "\n",
      "  sns.distplot(df[col])\n"
     ]
    },
    {
     "data": {
      "image/png": "[encoded data removed]",
      "text/plain": [
       "<Figure size 640x480 with 1 Axes>"
      ]
     },
     "metadata": {},
     "output_type": "display_data"
    },
    {
     "data": {
      "image/png": "[encoded data removed]",
      "text/plain": [
       "<Figure size 640x480 with 1 Axes>"
      ]
     },
     "metadata": {},
     "output_type": "display_data"
    },
    {
     "data": {
      "image/png": "[encoded data removed]",
      "text/plain": [
       "<Figure size 640x480 with 1 Axes>"
      ]
     },
     "metadata": {},
     "output_type": "display_data"
    }
   ],
   "source": [
    "for col in df.select_dtypes('float'):\n",
    "    plt.figure()\n",
    "    sns.distplot(df[col])"
   ]
  },
  {
   "cell_type": "code",
   "execution_count": 31,
   "id": "3d443a15-ff3c-47b2-bf67-1e17be45583f",
   "metadata": {},
   "outputs": [
    {
     "data": {
      "text/plain": [
       "Humidity\n",
       "70.000000    2\n",
       "55.000000    2\n",
       "61.591861    1\n",
       "49.700000    1\n",
       "73.600000    1\n",
       "            ..\n",
       "61.469932    1\n",
       "64.787434    1\n",
       "52.727053    1\n",
       "61.377904    1\n",
       "56.900000    1\n",
       "Name: count, Length: 191, dtype: int64"
      ]
     },
     "execution_count": 31,
     "metadata": {},
     "output_type": "execute_result"
    }
   ],
   "source": [
    "df['Humidity'].value_counts()"
   ]
  },
  {
   "cell_type": "markdown",
   "id": "75f3daa2-963e-4a1a-9768-4b9aa678d3ed",
   "metadata": {},
   "source": [
    "### Variables Qualitatives"
   ]
  },
  {
   "cell_type": "code",
   "execution_count": 35,
   "id": "8b506531-a2a4-4e45-bfe9-96708a3c8069",
   "metadata": {},
   "outputs": [
    {
     "data": {
      "image/png": "[encoded data removed]",
      "text/plain": [
       "<Figure size 640x480 with 1 Axes>"
      ]
     },
     "metadata": {},
     "output_type": "display_data"
    },
    {
     "data": {
      "image/png": "[encoded data removed]",
      "text/plain": [
       "<Figure size 640x480 with 1 Axes>"
      ]
     },
     "metadata": {},
     "output_type": "display_data"
    },
    {
     "data": {
      "image/png": "[encoded data removed]",
      "text/plain": [
       "<Figure size 640x480 with 1 Axes>"
      ]
     },
     "metadata": {},
     "output_type": "display_data"
    }
   ],
   "source": [
    "for col in df.select_dtypes('object'):\n",
    "    plt.figure()\n",
    "    df[col].value_counts().plot.pie()"
   ]
  },
  {
   "cell_type": "markdown",
   "id": "ef522137-12ff-42e7-ab67-c1abf9daaeb3",
   "metadata": {},
   "source": [
    "# Relation Target / Variabless"
   ]
  },
  {
   "cell_type": "code",
   "execution_count": 38,
   "id": "dccfcdd7-daf4-41fe-96d0-144d182b0b61",
   "metadata": {},
   "outputs": [],
   "source": [
    "# sns.countplot(x='Humidity', hue='Growth_Milestone', data=df)"
   ]
  },
  {
   "cell_type": "markdown",
   "id": "e990243d-cd07-45b8-b04b-4d451466fb3e",
   "metadata": {},
   "source": [
    "sns.countplot(x='Temperature', hue='Growth_Milestone', data=df)"
   ]
  },
  {
   "cell_type": "markdown",
   "id": "1277cf29-5b24-48db-8c87-156f48b0b7bb",
   "metadata": {},
   "source": [
    "# TrainTest - Nettoyage - Encodage\n"
   ]
  },
  {
   "cell_type": "code",
   "execution_count": 42,
   "id": "46146337-f922-493e-9742-19d51682f74f",
   "metadata": {},
   "outputs": [],
   "source": [
    "from sklearn.model_selection import train_test_split"
   ]
  },
  {
   "cell_type": "code",
   "execution_count": 44,
   "id": "b987b9b9-e8f1-4931-9d17-6f496ef70862",
   "metadata": {},
   "outputs": [],
   "source": [
    "trainset, testset = train_test_split(df, test_size=0.2, random_state=0)"
   ]
  },
  {
   "cell_type": "code",
   "execution_count": 46,
   "id": "2180a789-4e81-4c51-8389-7ecc9a5d209a",
   "metadata": {},
   "outputs": [
    {
     "data": {
      "text/plain": [
       "Growth_Milestone\n",
       "1    77\n",
       "0    77\n",
       "Name: count, dtype: int64"
      ]
     },
     "execution_count": 46,
     "metadata": {},
     "output_type": "execute_result"
    }
   ],
   "source": [
    "trainset['Growth_Milestone'].value_counts()\n"
   ]
  },
  {
   "cell_type": "code",
   "execution_count": 48,
   "id": "263dab2f-52a3-4b3a-978b-80c61e14911f",
   "metadata": {},
   "outputs": [
    {
     "data": {
      "text/plain": [
       "Growth_Milestone\n",
       "0    20\n",
       "1    19\n",
       "Name: count, dtype: int64"
      ]
     },
     "execution_count": 48,
     "metadata": {},
     "output_type": "execute_result"
    }
   ],
   "source": [
    "testset['Growth_Milestone'].value_counts()"
   ]
  },
  {
   "cell_type": "code",
   "execution_count": 50,
   "id": "df154c97-7633-4285-8234-268405559200",
   "metadata": {},
   "outputs": [
    {
     "data": {
      "text/html": [
       "<div>\n",
       "<style scoped>\n",
       "    .dataframe tbody tr th:only-of-type {\n",
       "        vertical-align: middle;\n",
       "    }\n",
       "\n",
       "    .dataframe tbody tr th {\n",
       "        vertical-align: top;\n",
       "    }\n",
       "\n",
       "    .dataframe thead th {\n",
       "        text-align: right;\n",
       "    }\n",
       "</style>\n",
       "<table border=\"1\" class=\"dataframe\">\n",
       "  <thead>\n",
       "    <tr style=\"text-align: right;\">\n",
       "      <th></th>\n",
       "      <th>Soil_Type</th>\n",
       "      <th>Sunlight_Hours</th>\n",
       "      <th>Water_Frequency</th>\n",
       "      <th>Fertilizer_Type</th>\n",
       "      <th>Temperature</th>\n",
       "      <th>Humidity</th>\n",
       "      <th>Growth_Milestone</th>\n",
       "    </tr>\n",
       "  </thead>\n",
       "  <tbody>\n",
       "    <tr>\n",
       "      <th>0</th>\n",
       "      <td>loam</td>\n",
       "      <td>5.192294</td>\n",
       "      <td>bi-weekly</td>\n",
       "      <td>chemical</td>\n",
       "      <td>31.719602</td>\n",
       "      <td>61.591861</td>\n",
       "      <td>0</td>\n",
       "    </tr>\n",
       "    <tr>\n",
       "      <th>1</th>\n",
       "      <td>sandy</td>\n",
       "      <td>4.033133</td>\n",
       "      <td>weekly</td>\n",
       "      <td>organic</td>\n",
       "      <td>28.919484</td>\n",
       "      <td>52.422276</td>\n",
       "      <td>1</td>\n",
       "    </tr>\n",
       "    <tr>\n",
       "      <th>2</th>\n",
       "      <td>loam</td>\n",
       "      <td>8.892769</td>\n",
       "      <td>bi-weekly</td>\n",
       "      <td>none</td>\n",
       "      <td>23.179059</td>\n",
       "      <td>44.660539</td>\n",
       "      <td>0</td>\n",
       "    </tr>\n",
       "    <tr>\n",
       "      <th>3</th>\n",
       "      <td>loam</td>\n",
       "      <td>8.241144</td>\n",
       "      <td>bi-weekly</td>\n",
       "      <td>none</td>\n",
       "      <td>18.465886</td>\n",
       "      <td>46.433227</td>\n",
       "      <td>0</td>\n",
       "    </tr>\n",
       "    <tr>\n",
       "      <th>4</th>\n",
       "      <td>sandy</td>\n",
       "      <td>8.374043</td>\n",
       "      <td>bi-weekly</td>\n",
       "      <td>organic</td>\n",
       "      <td>18.128741</td>\n",
       "      <td>63.625923</td>\n",
       "      <td>0</td>\n",
       "    </tr>\n",
       "    <tr>\n",
       "      <th>...</th>\n",
       "      <td>...</td>\n",
       "      <td>...</td>\n",
       "      <td>...</td>\n",
       "      <td>...</td>\n",
       "      <td>...</td>\n",
       "      <td>...</td>\n",
       "      <td>...</td>\n",
       "    </tr>\n",
       "    <tr>\n",
       "      <th>188</th>\n",
       "      <td>sandy</td>\n",
       "      <td>5.652000</td>\n",
       "      <td>daily</td>\n",
       "      <td>none</td>\n",
       "      <td>28.000000</td>\n",
       "      <td>70.200000</td>\n",
       "      <td>0</td>\n",
       "    </tr>\n",
       "    <tr>\n",
       "      <th>189</th>\n",
       "      <td>clay</td>\n",
       "      <td>7.528000</td>\n",
       "      <td>weekly</td>\n",
       "      <td>chemical</td>\n",
       "      <td>30.500000</td>\n",
       "      <td>60.100000</td>\n",
       "      <td>1</td>\n",
       "    </tr>\n",
       "    <tr>\n",
       "      <th>190</th>\n",
       "      <td>loam</td>\n",
       "      <td>4.934000</td>\n",
       "      <td>bi-weekly</td>\n",
       "      <td>none</td>\n",
       "      <td>24.500000</td>\n",
       "      <td>61.700000</td>\n",
       "      <td>0</td>\n",
       "    </tr>\n",
       "    <tr>\n",
       "      <th>191</th>\n",
       "      <td>sandy</td>\n",
       "      <td>8.273000</td>\n",
       "      <td>daily</td>\n",
       "      <td>organic</td>\n",
       "      <td>27.900000</td>\n",
       "      <td>69.500000</td>\n",
       "      <td>1</td>\n",
       "    </tr>\n",
       "    <tr>\n",
       "      <th>192</th>\n",
       "      <td>clay</td>\n",
       "      <td>6.732000</td>\n",
       "      <td>weekly</td>\n",
       "      <td>none</td>\n",
       "      <td>21.700000</td>\n",
       "      <td>56.900000</td>\n",
       "      <td>0</td>\n",
       "    </tr>\n",
       "  </tbody>\n",
       "</table>\n",
       "<p>193 rows × 7 columns</p>\n",
       "</div>"
      ],
      "text/plain": [
       "    Soil_Type  Sunlight_Hours Water_Frequency Fertilizer_Type  Temperature  \\\n",
       "0        loam        5.192294       bi-weekly        chemical    31.719602   \n",
       "1       sandy        4.033133          weekly         organic    28.919484   \n",
       "2        loam        8.892769       bi-weekly            none    23.179059   \n",
       "3        loam        8.241144       bi-weekly            none    18.465886   \n",
       "4       sandy        8.374043       bi-weekly         organic    18.128741   \n",
       "..        ...             ...             ...             ...          ...   \n",
       "188     sandy        5.652000           daily            none    28.000000   \n",
       "189      clay        7.528000          weekly        chemical    30.500000   \n",
       "190      loam        4.934000       bi-weekly            none    24.500000   \n",
       "191     sandy        8.273000           daily         organic    27.900000   \n",
       "192      clay        6.732000          weekly            none    21.700000   \n",
       "\n",
       "      Humidity  Growth_Milestone  \n",
       "0    61.591861                 0  \n",
       "1    52.422276                 1  \n",
       "2    44.660539                 0  \n",
       "3    46.433227                 0  \n",
       "4    63.625923                 0  \n",
       "..         ...               ...  \n",
       "188  70.200000                 0  \n",
       "189  60.100000                 1  \n",
       "190  61.700000                 0  \n",
       "191  69.500000                 1  \n",
       "192  56.900000                 0  \n",
       "\n",
       "[193 rows x 7 columns]"
      ]
     },
     "execution_count": 50,
     "metadata": {},
     "output_type": "execute_result"
    }
   ],
   "source": [
    "df"
   ]
  },
  {
   "cell_type": "code",
   "execution_count": 52,
   "id": "e29e9a81-79ab-4803-a1ef-f4360c61ded4",
   "metadata": {},
   "outputs": [
    {
     "data": {
      "text/plain": [
       "Index(['Soil_Type', 'Sunlight_Hours', 'Water_Frequency', 'Fertilizer_Type',\n",
       "       'Temperature', 'Humidity', 'Growth_Milestone'],\n",
       "      dtype='object')"
      ]
     },
     "execution_count": 52,
     "metadata": {},
     "output_type": "execute_result"
    }
   ],
   "source": [
    "df.columns"
   ]
  },
  {
   "cell_type": "code",
   "execution_count": 54,
   "id": "0e95ce40-4843-4b1f-a06a-4edaa26bbfd1",
   "metadata": {},
   "outputs": [
    {
     "data": {
      "text/plain": [
       "dtype('O')"
      ]
     },
     "execution_count": 54,
     "metadata": {},
     "output_type": "execute_result"
    }
   ],
   "source": [
    "df['Water_Frequency'].dtype "
   ]
  },
  {
   "cell_type": "code",
   "execution_count": 56,
   "id": "f56ce6cc-5eec-4ea0-9b35-1018fa33e859",
   "metadata": {},
   "outputs": [
    {
     "name": "stdout",
     "output_type": "stream",
     "text": [
      "Soil_Type\n",
      "Water_Frequency\n",
      "Fertilizer_Type\n"
     ]
    }
   ],
   "source": [
    "for i in list(df.columns):\n",
    "    if pd.api.types.is_object_dtype(df[i]) :\n",
    "        print(i)"
   ]
  },
  {
   "cell_type": "code",
   "execution_count": 58,
   "id": "7c299400-0c74-47e1-86fe-4615655d7843",
   "metadata": {},
   "outputs": [],
   "source": [
    "for i in list(df.columns) :\n",
    "    if pd.api.types.is_object_dtype(df[i]) :\n",
    "        df[i]=df[i].astype('category')\n",
    "        df[i]=df[i].cat.codes"
   ]
  },
  {
   "cell_type": "code",
   "execution_count": 60,
   "id": "83722a4d-af63-4292-b6e9-d78fc68a4528",
   "metadata": {},
   "outputs": [
    {
     "data": {
      "text/html": [
       "<div>\n",
       "<style scoped>\n",
       "    .dataframe tbody tr th:only-of-type {\n",
       "        vertical-align: middle;\n",
       "    }\n",
       "\n",
       "    .dataframe tbody tr th {\n",
       "        vertical-align: top;\n",
       "    }\n",
       "\n",
       "    .dataframe thead th {\n",
       "        text-align: right;\n",
       "    }\n",
       "</style>\n",
       "<table border=\"1\" class=\"dataframe\">\n",
       "  <thead>\n",
       "    <tr style=\"text-align: right;\">\n",
       "      <th></th>\n",
       "      <th>Soil_Type</th>\n",
       "      <th>Sunlight_Hours</th>\n",
       "      <th>Water_Frequency</th>\n",
       "      <th>Fertilizer_Type</th>\n",
       "      <th>Temperature</th>\n",
       "      <th>Humidity</th>\n",
       "      <th>Growth_Milestone</th>\n",
       "    </tr>\n",
       "  </thead>\n",
       "  <tbody>\n",
       "    <tr>\n",
       "      <th>0</th>\n",
       "      <td>1</td>\n",
       "      <td>5.192294</td>\n",
       "      <td>0</td>\n",
       "      <td>0</td>\n",
       "      <td>31.719602</td>\n",
       "      <td>61.591861</td>\n",
       "      <td>0</td>\n",
       "    </tr>\n",
       "    <tr>\n",
       "      <th>1</th>\n",
       "      <td>2</td>\n",
       "      <td>4.033133</td>\n",
       "      <td>2</td>\n",
       "      <td>2</td>\n",
       "      <td>28.919484</td>\n",
       "      <td>52.422276</td>\n",
       "      <td>1</td>\n",
       "    </tr>\n",
       "    <tr>\n",
       "      <th>2</th>\n",
       "      <td>1</td>\n",
       "      <td>8.892769</td>\n",
       "      <td>0</td>\n",
       "      <td>1</td>\n",
       "      <td>23.179059</td>\n",
       "      <td>44.660539</td>\n",
       "      <td>0</td>\n",
       "    </tr>\n",
       "    <tr>\n",
       "      <th>3</th>\n",
       "      <td>1</td>\n",
       "      <td>8.241144</td>\n",
       "      <td>0</td>\n",
       "      <td>1</td>\n",
       "      <td>18.465886</td>\n",
       "      <td>46.433227</td>\n",
       "      <td>0</td>\n",
       "    </tr>\n",
       "    <tr>\n",
       "      <th>4</th>\n",
       "      <td>2</td>\n",
       "      <td>8.374043</td>\n",
       "      <td>0</td>\n",
       "      <td>2</td>\n",
       "      <td>18.128741</td>\n",
       "      <td>63.625923</td>\n",
       "      <td>0</td>\n",
       "    </tr>\n",
       "    <tr>\n",
       "      <th>...</th>\n",
       "      <td>...</td>\n",
       "      <td>...</td>\n",
       "      <td>...</td>\n",
       "      <td>...</td>\n",
       "      <td>...</td>\n",
       "      <td>...</td>\n",
       "      <td>...</td>\n",
       "    </tr>\n",
       "    <tr>\n",
       "      <th>188</th>\n",
       "      <td>2</td>\n",
       "      <td>5.652000</td>\n",
       "      <td>1</td>\n",
       "      <td>1</td>\n",
       "      <td>28.000000</td>\n",
       "      <td>70.200000</td>\n",
       "      <td>0</td>\n",
       "    </tr>\n",
       "    <tr>\n",
       "      <th>189</th>\n",
       "      <td>0</td>\n",
       "      <td>7.528000</td>\n",
       "      <td>2</td>\n",
       "      <td>0</td>\n",
       "      <td>30.500000</td>\n",
       "      <td>60.100000</td>\n",
       "      <td>1</td>\n",
       "    </tr>\n",
       "    <tr>\n",
       "      <th>190</th>\n",
       "      <td>1</td>\n",
       "      <td>4.934000</td>\n",
       "      <td>0</td>\n",
       "      <td>1</td>\n",
       "      <td>24.500000</td>\n",
       "      <td>61.700000</td>\n",
       "      <td>0</td>\n",
       "    </tr>\n",
       "    <tr>\n",
       "      <th>191</th>\n",
       "      <td>2</td>\n",
       "      <td>8.273000</td>\n",
       "      <td>1</td>\n",
       "      <td>2</td>\n",
       "      <td>27.900000</td>\n",
       "      <td>69.500000</td>\n",
       "      <td>1</td>\n",
       "    </tr>\n",
       "    <tr>\n",
       "      <th>192</th>\n",
       "      <td>0</td>\n",
       "      <td>6.732000</td>\n",
       "      <td>2</td>\n",
       "      <td>1</td>\n",
       "      <td>21.700000</td>\n",
       "      <td>56.900000</td>\n",
       "      <td>0</td>\n",
       "    </tr>\n",
       "  </tbody>\n",
       "</table>\n",
       "<p>193 rows × 7 columns</p>\n",
       "</div>"
      ],
      "text/plain": [
       "     Soil_Type  Sunlight_Hours  Water_Frequency  Fertilizer_Type  Temperature  \\\n",
       "0            1        5.192294                0                0    31.719602   \n",
       "1            2        4.033133                2                2    28.919484   \n",
       "2            1        8.892769                0                1    23.179059   \n",
       "3            1        8.241144                0                1    18.465886   \n",
       "4            2        8.374043                0                2    18.128741   \n",
       "..         ...             ...              ...              ...          ...   \n",
       "188          2        5.652000                1                1    28.000000   \n",
       "189          0        7.528000                2                0    30.500000   \n",
       "190          1        4.934000                0                1    24.500000   \n",
       "191          2        8.273000                1                2    27.900000   \n",
       "192          0        6.732000                2                1    21.700000   \n",
       "\n",
       "      Humidity  Growth_Milestone  \n",
       "0    61.591861                 0  \n",
       "1    52.422276                 1  \n",
       "2    44.660539                 0  \n",
       "3    46.433227                 0  \n",
       "4    63.625923                 0  \n",
       "..         ...               ...  \n",
       "188  70.200000                 0  \n",
       "189  60.100000                 1  \n",
       "190  61.700000                 0  \n",
       "191  69.500000                 1  \n",
       "192  56.900000                 0  \n",
       "\n",
       "[193 rows x 7 columns]"
      ]
     },
     "execution_count": 60,
     "metadata": {},
     "output_type": "execute_result"
    }
   ],
   "source": [
    "df"
   ]
  },
  {
   "cell_type": "code",
   "execution_count": 62,
   "id": "2b5ef76b-d328-4c2e-88c3-fa0b2898ce08",
   "metadata": {},
   "outputs": [],
   "source": [
    "# effacer toute  les ligne avec des valeurs manquantes \n",
    "def imputation(df):\n",
    "    #df['is na'] = (df['Parainfluenza 3'].isna()) | (df['Leukocytes'].isna())\n",
    "    #df = df.fillna(-999)\n",
    "    df = df.dropna(axis=0)\n",
    "    return  df"
   ]
  },
  {
   "cell_type": "code",
   "execution_count": 64,
   "id": "8d3e894d-f551-4861-ad8f-faa5ebaed405",
   "metadata": {},
   "outputs": [],
   "source": [
    "def preprocessing(df):\n",
    "    \n",
    "    for i in list(df.columns) :\n",
    "        if pd.api.types.is_object_dtype(df[i]) :\n",
    "            df[i]=df[i].astype('category')\n",
    "            df[i]=df[i].cat.codes\n",
    "\n",
    "    \n",
    "    X = df.drop('Growth_Milestone', axis=1)\n",
    "    y = df['Growth_Milestone']\n",
    "    \n",
    "    print(y.value_counts())\n",
    "    \n",
    "    return X, y"
   ]
  },
  {
   "cell_type": "code",
   "execution_count": 66,
   "id": "52bb8664-9f92-4938-8e87-fbd0de52f886",
   "metadata": {},
   "outputs": [
    {
     "name": "stdout",
     "output_type": "stream",
     "text": [
      "Growth_Milestone\n",
      "1    77\n",
      "0    77\n",
      "Name: count, dtype: int64\n"
     ]
    }
   ],
   "source": [
    "X_train, y_train = preprocessing(trainset)"
   ]
  },
  {
   "cell_type": "code",
   "execution_count": 68,
   "id": "b4207ef4-29c8-4946-9692-f850f922edc8",
   "metadata": {},
   "outputs": [
    {
     "data": {
      "text/html": [
       "<div>\n",
       "<style scoped>\n",
       "    .dataframe tbody tr th:only-of-type {\n",
       "        vertical-align: middle;\n",
       "    }\n",
       "\n",
       "    .dataframe tbody tr th {\n",
       "        vertical-align: top;\n",
       "    }\n",
       "\n",
       "    .dataframe thead th {\n",
       "        text-align: right;\n",
       "    }\n",
       "</style>\n",
       "<table border=\"1\" class=\"dataframe\">\n",
       "  <thead>\n",
       "    <tr style=\"text-align: right;\">\n",
       "      <th></th>\n",
       "      <th>Soil_Type</th>\n",
       "      <th>Sunlight_Hours</th>\n",
       "      <th>Water_Frequency</th>\n",
       "      <th>Fertilizer_Type</th>\n",
       "      <th>Temperature</th>\n",
       "      <th>Humidity</th>\n",
       "    </tr>\n",
       "  </thead>\n",
       "  <tbody>\n",
       "    <tr>\n",
       "      <th>137</th>\n",
       "      <td>2</td>\n",
       "      <td>5.612000</td>\n",
       "      <td>2</td>\n",
       "      <td>2</td>\n",
       "      <td>19.200000</td>\n",
       "      <td>61.600000</td>\n",
       "    </tr>\n",
       "    <tr>\n",
       "      <th>8</th>\n",
       "      <td>1</td>\n",
       "      <td>4.695214</td>\n",
       "      <td>0</td>\n",
       "      <td>1</td>\n",
       "      <td>28.203948</td>\n",
       "      <td>34.560305</td>\n",
       "    </tr>\n",
       "    <tr>\n",
       "      <th>171</th>\n",
       "      <td>0</td>\n",
       "      <td>6.341000</td>\n",
       "      <td>2</td>\n",
       "      <td>2</td>\n",
       "      <td>30.900000</td>\n",
       "      <td>69.100000</td>\n",
       "    </tr>\n",
       "    <tr>\n",
       "      <th>135</th>\n",
       "      <td>0</td>\n",
       "      <td>8.512000</td>\n",
       "      <td>0</td>\n",
       "      <td>0</td>\n",
       "      <td>21.400000</td>\n",
       "      <td>69.300000</td>\n",
       "    </tr>\n",
       "    <tr>\n",
       "      <th>131</th>\n",
       "      <td>2</td>\n",
       "      <td>7.245000</td>\n",
       "      <td>1</td>\n",
       "      <td>1</td>\n",
       "      <td>30.400000</td>\n",
       "      <td>63.400000</td>\n",
       "    </tr>\n",
       "    <tr>\n",
       "      <th>...</th>\n",
       "      <td>...</td>\n",
       "      <td>...</td>\n",
       "      <td>...</td>\n",
       "      <td>...</td>\n",
       "      <td>...</td>\n",
       "      <td>...</td>\n",
       "    </tr>\n",
       "    <tr>\n",
       "      <th>103</th>\n",
       "      <td>1</td>\n",
       "      <td>7.000000</td>\n",
       "      <td>1</td>\n",
       "      <td>2</td>\n",
       "      <td>30.000000</td>\n",
       "      <td>50.000000</td>\n",
       "    </tr>\n",
       "    <tr>\n",
       "      <th>67</th>\n",
       "      <td>0</td>\n",
       "      <td>6.181778</td>\n",
       "      <td>0</td>\n",
       "      <td>0</td>\n",
       "      <td>28.934743</td>\n",
       "      <td>64.787434</td>\n",
       "    </tr>\n",
       "    <tr>\n",
       "      <th>117</th>\n",
       "      <td>0</td>\n",
       "      <td>8.443000</td>\n",
       "      <td>1</td>\n",
       "      <td>1</td>\n",
       "      <td>27.600000</td>\n",
       "      <td>49.300000</td>\n",
       "    </tr>\n",
       "    <tr>\n",
       "      <th>47</th>\n",
       "      <td>2</td>\n",
       "      <td>9.355354</td>\n",
       "      <td>1</td>\n",
       "      <td>2</td>\n",
       "      <td>27.865764</td>\n",
       "      <td>62.460515</td>\n",
       "    </tr>\n",
       "    <tr>\n",
       "      <th>172</th>\n",
       "      <td>1</td>\n",
       "      <td>5.813000</td>\n",
       "      <td>0</td>\n",
       "      <td>1</td>\n",
       "      <td>26.000000</td>\n",
       "      <td>60.200000</td>\n",
       "    </tr>\n",
       "  </tbody>\n",
       "</table>\n",
       "<p>154 rows × 6 columns</p>\n",
       "</div>"
      ],
      "text/plain": [
       "     Soil_Type  Sunlight_Hours  Water_Frequency  Fertilizer_Type  Temperature  \\\n",
       "137          2        5.612000                2                2    19.200000   \n",
       "8            1        4.695214                0                1    28.203948   \n",
       "171          0        6.341000                2                2    30.900000   \n",
       "135          0        8.512000                0                0    21.400000   \n",
       "131          2        7.245000                1                1    30.400000   \n",
       "..         ...             ...              ...              ...          ...   \n",
       "103          1        7.000000                1                2    30.000000   \n",
       "67           0        6.181778                0                0    28.934743   \n",
       "117          0        8.443000                1                1    27.600000   \n",
       "47           2        9.355354                1                2    27.865764   \n",
       "172          1        5.813000                0                1    26.000000   \n",
       "\n",
       "      Humidity  \n",
       "137  61.600000  \n",
       "8    34.560305  \n",
       "171  69.100000  \n",
       "135  69.300000  \n",
       "131  63.400000  \n",
       "..         ...  \n",
       "103  50.000000  \n",
       "67   64.787434  \n",
       "117  49.300000  \n",
       "47   62.460515  \n",
       "172  60.200000  \n",
       "\n",
       "[154 rows x 6 columns]"
      ]
     },
     "execution_count": 68,
     "metadata": {},
     "output_type": "execute_result"
    }
   ],
   "source": [
    "X_train"
   ]
  },
  {
   "cell_type": "code",
   "execution_count": 70,
   "id": "9a8165cd-d2b3-42a6-a433-e8d0756f75c0",
   "metadata": {},
   "outputs": [
    {
     "name": "stdout",
     "output_type": "stream",
     "text": [
      "Growth_Milestone\n",
      "0    20\n",
      "1    19\n",
      "Name: count, dtype: int64\n"
     ]
    }
   ],
   "source": [
    "X_test, y_test = preprocessing(testset)"
   ]
  },
  {
   "cell_type": "code",
   "execution_count": 72,
   "id": "6f6ea668-58f4-4ccc-96d3-4fee67b2c192",
   "metadata": {},
   "outputs": [
    {
     "data": {
      "text/plain": [
       "111    0\n",
       "134    0\n",
       "44     0\n",
       "123    1\n",
       "158    0\n",
       "118    0\n",
       "18     1\n",
       "179    1\n",
       "146    0\n",
       "7      0\n",
       "5      0\n",
       "126    0\n",
       "159    1\n",
       "113    0\n",
       "80     1\n",
       "55     0\n",
       "56     1\n",
       "37     1\n",
       "139    1\n",
       "71     1\n",
       "33     0\n",
       "86     1\n",
       "106    1\n",
       "153    1\n",
       "66     1\n",
       "173    1\n",
       "164    0\n",
       "22     0\n",
       "178    0\n",
       "154    0\n",
       "98     0\n",
       "4      0\n",
       "181    1\n",
       "183    1\n",
       "45     1\n",
       "130    0\n",
       "26     0\n",
       "96     1\n",
       "141    1\n",
       "Name: Growth_Milestone, dtype: int64"
      ]
     },
     "execution_count": 72,
     "metadata": {},
     "output_type": "execute_result"
    }
   ],
   "source": [
    "y_test"
   ]
  },
  {
   "cell_type": "code",
   "execution_count": 74,
   "id": "aeb33fb1-f781-42a5-a1db-17f124a90212",
   "metadata": {},
   "outputs": [],
   "source": [
    "# Procédure d'évaluation"
   ]
  },
  {
   "cell_type": "code",
   "execution_count": 76,
   "id": "ff70aacf-3cd2-4ee6-98eb-7096ba12c4f0",
   "metadata": {},
   "outputs": [],
   "source": [
    "def evaluation(model,X_train, y_train, X_test, y_test):\n",
    "    \n",
    "    model.fit(X_train, y_train)\n",
    "    ypred = model.predict(X_test)\n",
    "    \n",
    "    print(confusion_matrix(y_test, ypred))\n",
    "    print(classification_report(y_test, ypred))\n",
    "    \n",
    "    N, train_score, val_score = learning_curve(model, X_train, y_train,\n",
    "                                               cv=5, scoring='accuracy',\n",
    "                                               train_sizes=np.linspace(0.1, 1, 10))\n",
    "    accuracy = accuracy_score(y_test, ypred)\n",
    "    print(\"Accuracy:\", accuracy)\n",
    "    \n",
    "    plt.figure(figsize=(12, 8))\n",
    "    plt.plot(N, train_score.mean(axis=1), label='train score')\n",
    "    plt.plot(N, val_score.mean(axis=1), label='validation score')\n",
    "    plt.legend()\n",
    "    "
   ]
  },
  {
   "cell_type": "code",
   "execution_count": 78,
   "id": "ab0452f8-3923-402c-be46-ab401e67d342",
   "metadata": {},
   "outputs": [
    {
     "data": {
      "text/html": [
       "<div>\n",
       "<style scoped>\n",
       "    .dataframe tbody tr th:only-of-type {\n",
       "        vertical-align: middle;\n",
       "    }\n",
       "\n",
       "    .dataframe tbody tr th {\n",
       "        vertical-align: top;\n",
       "    }\n",
       "\n",
       "    .dataframe thead th {\n",
       "        text-align: right;\n",
       "    }\n",
       "</style>\n",
       "<table border=\"1\" class=\"dataframe\">\n",
       "  <thead>\n",
       "    <tr style=\"text-align: right;\">\n",
       "      <th></th>\n",
       "      <th>Soil_Type</th>\n",
       "      <th>Sunlight_Hours</th>\n",
       "      <th>Water_Frequency</th>\n",
       "      <th>Fertilizer_Type</th>\n",
       "      <th>Temperature</th>\n",
       "      <th>Humidity</th>\n",
       "    </tr>\n",
       "  </thead>\n",
       "  <tbody>\n",
       "    <tr>\n",
       "      <th>137</th>\n",
       "      <td>2</td>\n",
       "      <td>5.612000</td>\n",
       "      <td>2</td>\n",
       "      <td>2</td>\n",
       "      <td>19.200000</td>\n",
       "      <td>61.600000</td>\n",
       "    </tr>\n",
       "    <tr>\n",
       "      <th>8</th>\n",
       "      <td>1</td>\n",
       "      <td>4.695214</td>\n",
       "      <td>0</td>\n",
       "      <td>1</td>\n",
       "      <td>28.203948</td>\n",
       "      <td>34.560305</td>\n",
       "    </tr>\n",
       "    <tr>\n",
       "      <th>171</th>\n",
       "      <td>0</td>\n",
       "      <td>6.341000</td>\n",
       "      <td>2</td>\n",
       "      <td>2</td>\n",
       "      <td>30.900000</td>\n",
       "      <td>69.100000</td>\n",
       "    </tr>\n",
       "    <tr>\n",
       "      <th>135</th>\n",
       "      <td>0</td>\n",
       "      <td>8.512000</td>\n",
       "      <td>0</td>\n",
       "      <td>0</td>\n",
       "      <td>21.400000</td>\n",
       "      <td>69.300000</td>\n",
       "    </tr>\n",
       "    <tr>\n",
       "      <th>131</th>\n",
       "      <td>2</td>\n",
       "      <td>7.245000</td>\n",
       "      <td>1</td>\n",
       "      <td>1</td>\n",
       "      <td>30.400000</td>\n",
       "      <td>63.400000</td>\n",
       "    </tr>\n",
       "    <tr>\n",
       "      <th>...</th>\n",
       "      <td>...</td>\n",
       "      <td>...</td>\n",
       "      <td>...</td>\n",
       "      <td>...</td>\n",
       "      <td>...</td>\n",
       "      <td>...</td>\n",
       "    </tr>\n",
       "    <tr>\n",
       "      <th>103</th>\n",
       "      <td>1</td>\n",
       "      <td>7.000000</td>\n",
       "      <td>1</td>\n",
       "      <td>2</td>\n",
       "      <td>30.000000</td>\n",
       "      <td>50.000000</td>\n",
       "    </tr>\n",
       "    <tr>\n",
       "      <th>67</th>\n",
       "      <td>0</td>\n",
       "      <td>6.181778</td>\n",
       "      <td>0</td>\n",
       "      <td>0</td>\n",
       "      <td>28.934743</td>\n",
       "      <td>64.787434</td>\n",
       "    </tr>\n",
       "    <tr>\n",
       "      <th>117</th>\n",
       "      <td>0</td>\n",
       "      <td>8.443000</td>\n",
       "      <td>1</td>\n",
       "      <td>1</td>\n",
       "      <td>27.600000</td>\n",
       "      <td>49.300000</td>\n",
       "    </tr>\n",
       "    <tr>\n",
       "      <th>47</th>\n",
       "      <td>2</td>\n",
       "      <td>9.355354</td>\n",
       "      <td>1</td>\n",
       "      <td>2</td>\n",
       "      <td>27.865764</td>\n",
       "      <td>62.460515</td>\n",
       "    </tr>\n",
       "    <tr>\n",
       "      <th>172</th>\n",
       "      <td>1</td>\n",
       "      <td>5.813000</td>\n",
       "      <td>0</td>\n",
       "      <td>1</td>\n",
       "      <td>26.000000</td>\n",
       "      <td>60.200000</td>\n",
       "    </tr>\n",
       "  </tbody>\n",
       "</table>\n",
       "<p>154 rows × 6 columns</p>\n",
       "</div>"
      ],
      "text/plain": [
       "     Soil_Type  Sunlight_Hours  Water_Frequency  Fertilizer_Type  Temperature  \\\n",
       "137          2        5.612000                2                2    19.200000   \n",
       "8            1        4.695214                0                1    28.203948   \n",
       "171          0        6.341000                2                2    30.900000   \n",
       "135          0        8.512000                0                0    21.400000   \n",
       "131          2        7.245000                1                1    30.400000   \n",
       "..         ...             ...              ...              ...          ...   \n",
       "103          1        7.000000                1                2    30.000000   \n",
       "67           0        6.181778                0                0    28.934743   \n",
       "117          0        8.443000                1                1    27.600000   \n",
       "47           2        9.355354                1                2    27.865764   \n",
       "172          1        5.813000                0                1    26.000000   \n",
       "\n",
       "      Humidity  \n",
       "137  61.600000  \n",
       "8    34.560305  \n",
       "171  69.100000  \n",
       "135  69.300000  \n",
       "131  63.400000  \n",
       "..         ...  \n",
       "103  50.000000  \n",
       "67   64.787434  \n",
       "117  49.300000  \n",
       "47   62.460515  \n",
       "172  60.200000  \n",
       "\n",
       "[154 rows x 6 columns]"
      ]
     },
     "execution_count": 78,
     "metadata": {},
     "output_type": "execute_result"
    }
   ],
   "source": [
    "X_train"
   ]
  },
  {
   "cell_type": "markdown",
   "id": "d52e4f7c-c659-484d-8f64-46c0a2312d20",
   "metadata": {},
   "source": [
    "# SVC"
   ]
  },
  {
   "cell_type": "code",
   "execution_count": 81,
   "id": "3222fd08-7800-43fd-b3bb-d30dc2a5e770",
   "metadata": {},
   "outputs": [],
   "source": [
    "# standarisation / normalisation\n",
    "for column in df.columns: \n",
    "    df[column] = df[column]  / df[column].abs().max() "
   ]
  },
  {
   "cell_type": "code",
   "execution_count": 83,
   "id": "bd9ee504-7f66-46fd-a0f8-29fff61776a0",
   "metadata": {
    "scrolled": true
   },
   "outputs": [
    {
     "name": "stdout",
     "output_type": "stream",
     "text": [
      "0.7597402597402597\n",
      "0.5384615384615384\n"
     ]
    }
   ],
   "source": [
    "# Model SVC : support vector classifier\n",
    "\n",
    "from sklearn.pipeline import make_pipeline\n",
    "from sklearn.preprocessing import StandardScaler\n",
    "from sklearn.svm import SVC\n",
    "\n",
    "clf = make_pipeline(StandardScaler(), SVC(gamma='scale',probability=True))\n",
    "clf.fit(X_train, y_train)\n",
    "Score1 = clf.score(X_train,y_train)\n",
    "Score2 = clf.score(X_test,y_test)\n",
    "print(Score1)\n",
    "print(Score2)"
   ]
  },
  {
   "cell_type": "code",
   "execution_count": 85,
   "id": "8ad51f71-741b-4307-94cc-ec3bd0222dc1",
   "metadata": {
    "scrolled": true
   },
   "outputs": [
    {
     "data": {
      "text/html": [
       "<div>\n",
       "<style scoped>\n",
       "    .dataframe tbody tr th:only-of-type {\n",
       "        vertical-align: middle;\n",
       "    }\n",
       "\n",
       "    .dataframe tbody tr th {\n",
       "        vertical-align: top;\n",
       "    }\n",
       "\n",
       "    .dataframe thead th {\n",
       "        text-align: right;\n",
       "    }\n",
       "</style>\n",
       "<table border=\"1\" class=\"dataframe\">\n",
       "  <thead>\n",
       "    <tr style=\"text-align: right;\">\n",
       "      <th></th>\n",
       "      <th>Soil_Type</th>\n",
       "      <th>Sunlight_Hours</th>\n",
       "      <th>Water_Frequency</th>\n",
       "      <th>Fertilizer_Type</th>\n",
       "      <th>Temperature</th>\n",
       "      <th>Humidity</th>\n",
       "    </tr>\n",
       "  </thead>\n",
       "  <tbody>\n",
       "    <tr>\n",
       "      <th>137</th>\n",
       "      <td>2</td>\n",
       "      <td>5.612000</td>\n",
       "      <td>2</td>\n",
       "      <td>2</td>\n",
       "      <td>19.200000</td>\n",
       "      <td>61.600000</td>\n",
       "    </tr>\n",
       "    <tr>\n",
       "      <th>8</th>\n",
       "      <td>1</td>\n",
       "      <td>4.695214</td>\n",
       "      <td>0</td>\n",
       "      <td>1</td>\n",
       "      <td>28.203948</td>\n",
       "      <td>34.560305</td>\n",
       "    </tr>\n",
       "    <tr>\n",
       "      <th>171</th>\n",
       "      <td>0</td>\n",
       "      <td>6.341000</td>\n",
       "      <td>2</td>\n",
       "      <td>2</td>\n",
       "      <td>30.900000</td>\n",
       "      <td>69.100000</td>\n",
       "    </tr>\n",
       "    <tr>\n",
       "      <th>135</th>\n",
       "      <td>0</td>\n",
       "      <td>8.512000</td>\n",
       "      <td>0</td>\n",
       "      <td>0</td>\n",
       "      <td>21.400000</td>\n",
       "      <td>69.300000</td>\n",
       "    </tr>\n",
       "    <tr>\n",
       "      <th>131</th>\n",
       "      <td>2</td>\n",
       "      <td>7.245000</td>\n",
       "      <td>1</td>\n",
       "      <td>1</td>\n",
       "      <td>30.400000</td>\n",
       "      <td>63.400000</td>\n",
       "    </tr>\n",
       "    <tr>\n",
       "      <th>...</th>\n",
       "      <td>...</td>\n",
       "      <td>...</td>\n",
       "      <td>...</td>\n",
       "      <td>...</td>\n",
       "      <td>...</td>\n",
       "      <td>...</td>\n",
       "    </tr>\n",
       "    <tr>\n",
       "      <th>103</th>\n",
       "      <td>1</td>\n",
       "      <td>7.000000</td>\n",
       "      <td>1</td>\n",
       "      <td>2</td>\n",
       "      <td>30.000000</td>\n",
       "      <td>50.000000</td>\n",
       "    </tr>\n",
       "    <tr>\n",
       "      <th>67</th>\n",
       "      <td>0</td>\n",
       "      <td>6.181778</td>\n",
       "      <td>0</td>\n",
       "      <td>0</td>\n",
       "      <td>28.934743</td>\n",
       "      <td>64.787434</td>\n",
       "    </tr>\n",
       "    <tr>\n",
       "      <th>117</th>\n",
       "      <td>0</td>\n",
       "      <td>8.443000</td>\n",
       "      <td>1</td>\n",
       "      <td>1</td>\n",
       "      <td>27.600000</td>\n",
       "      <td>49.300000</td>\n",
       "    </tr>\n",
       "    <tr>\n",
       "      <th>47</th>\n",
       "      <td>2</td>\n",
       "      <td>9.355354</td>\n",
       "      <td>1</td>\n",
       "      <td>2</td>\n",
       "      <td>27.865764</td>\n",
       "      <td>62.460515</td>\n",
       "    </tr>\n",
       "    <tr>\n",
       "      <th>172</th>\n",
       "      <td>1</td>\n",
       "      <td>5.813000</td>\n",
       "      <td>0</td>\n",
       "      <td>1</td>\n",
       "      <td>26.000000</td>\n",
       "      <td>60.200000</td>\n",
       "    </tr>\n",
       "  </tbody>\n",
       "</table>\n",
       "<p>154 rows × 6 columns</p>\n",
       "</div>"
      ],
      "text/plain": [
       "     Soil_Type  Sunlight_Hours  Water_Frequency  Fertilizer_Type  Temperature  \\\n",
       "137          2        5.612000                2                2    19.200000   \n",
       "8            1        4.695214                0                1    28.203948   \n",
       "171          0        6.341000                2                2    30.900000   \n",
       "135          0        8.512000                0                0    21.400000   \n",
       "131          2        7.245000                1                1    30.400000   \n",
       "..         ...             ...              ...              ...          ...   \n",
       "103          1        7.000000                1                2    30.000000   \n",
       "67           0        6.181778                0                0    28.934743   \n",
       "117          0        8.443000                1                1    27.600000   \n",
       "47           2        9.355354                1                2    27.865764   \n",
       "172          1        5.813000                0                1    26.000000   \n",
       "\n",
       "      Humidity  \n",
       "137  61.600000  \n",
       "8    34.560305  \n",
       "171  69.100000  \n",
       "135  69.300000  \n",
       "131  63.400000  \n",
       "..         ...  \n",
       "103  50.000000  \n",
       "67   64.787434  \n",
       "117  49.300000  \n",
       "47   62.460515  \n",
       "172  60.200000  \n",
       "\n",
       "[154 rows x 6 columns]"
      ]
     },
     "execution_count": 85,
     "metadata": {},
     "output_type": "execute_result"
    }
   ],
   "source": [
    "X_train"
   ]
  },
  {
   "cell_type": "code",
   "execution_count": 87,
   "id": "983b8077-e931-458b-8d76-d6a888bf800c",
   "metadata": {},
   "outputs": [
    {
     "name": "stdout",
     "output_type": "stream",
     "text": [
      "[[0.  0.5 1.  0.8 0.8 0.6]]\n",
      "[0]\n",
      "[[0.49169507 0.50830493]]\n"
     ]
    },
    {
     "name": "stderr",
     "output_type": "stream",
     "text": [
      "C:\\Users\\bensa\\anaconda3\\Lib\\site-packages\\sklearn\\base.py:493: UserWarning: X does not have valid feature names, but StandardScaler was fitted with feature names\n",
      "  warnings.warn(\n",
      "C:\\Users\\bensa\\anaconda3\\Lib\\site-packages\\sklearn\\base.py:493: UserWarning: X does not have valid feature names, but StandardScaler was fitted with feature names\n",
      "  warnings.warn(\n"
     ]
    }
   ],
   "source": [
    "X = np.array([0,0.5,1,0.8,0.8,0.6]).reshape(-1, 1)\n",
    "\n",
    "print(X.T)\n",
    "y_pred=clf.predict(X.T) \n",
    "print(y_pred)\n",
    "print(np.exp(clf.predict_log_proba(X.T)))\n",
    "\n"
   ]
  },
  {
   "cell_type": "code",
   "execution_count": 133,
   "id": "52b5d20e-b92f-4ea3-8986-0c28b0483808",
   "metadata": {},
   "outputs": [],
   "source": [
    "# sns.histplot(data=probabilities[:, 0], bins=20, kde=True)\n",
    "# plt.xlabel(\"Probabilité d'appartenir à la classe 0\")\n",
    "# plt.ylabel(\"Nombre d'échantillons\")\n",
    "# plt.title(\"Distribution des probabilités pour la classe 0\")\n",
    "# plt.show()\n",
    "\n",
    "# # Histogramme pour la classe 1\n",
    "# sns.histplot(data=probabilities[:, 1], bins=20, kde=True,color='green')\n",
    "# plt.xlabel(\"Probabilité d'appartenir à la classe 1\")\n",
    "# plt.ylabel(\"Nombre d'échantillons\")\n",
    "# plt.title(\"Distribution des probabilités pour la classe 1\")\n",
    "# plt.show()\n"
   ]
  },
  {
   "cell_type": "code",
   "execution_count": 135,
   "id": "71dbda99-7a19-4e96-a964-75dff0427894",
   "metadata": {},
   "outputs": [],
   "source": [
    "# sns.histplot(data=probabilities, bins=20, kde=True)\n",
    "# plt.xlabel(\"Probabilité\")\n",
    "# plt.ylabel(\"Nombre d'échantillons\")\n",
    "# plt.title(\"Distribution des probabilités par classe\")\n",
    "# plt.show()"
   ]
  },
  {
   "cell_type": "code",
   "execution_count": 137,
   "id": "c56cbd6d-e376-4c3b-bcaa-5a5fe4fd06d1",
   "metadata": {},
   "outputs": [],
   "source": [
    "\n",
    "# mean_probabilities = np.mean(probabilities, axis=0)\n",
    "\n",
    "# plt.pie(mean_probabilities, labels=[\"Classe 0\", \"Classe 1\"])\n",
    "# plt.show()"
   ]
  },
  {
   "cell_type": "markdown",
   "id": "729f89a7-8e28-4db9-9b60-d87112e965ed",
   "metadata": {},
   "source": [
    "# Logistic regression"
   ]
  },
  {
   "cell_type": "code",
   "execution_count": 96,
   "id": "038984ac-ab09-4057-93de-756975a024ba",
   "metadata": {},
   "outputs": [
    {
     "name": "stdout",
     "output_type": "stream",
     "text": [
      "0.5714285714285714\n",
      "0.48717948717948717\n"
     ]
    }
   ],
   "source": [
    "# Logistic Regression\n",
    "\n",
    "from sklearn.linear_model import LogisticRegressionCV\n",
    "\n",
    "clf2 = LogisticRegressionCV(cv=10, random_state=0,scoring='accuracy', penalty='l2').fit( X_train, y_train)\n",
    "y_pred=clf2.predict(X_test)\n",
    "\n",
    "Score3 = clf2.score(X_train,y_train)\n",
    "Score4 = clf2.score(X_test,y_test)\n",
    "print(Score3)\n",
    "print(Score4)"
   ]
  },
  {
   "cell_type": "code",
   "execution_count": 98,
   "id": "5ee228a4-84e6-4a7b-94e1-920c7adb9744",
   "metadata": {},
   "outputs": [
    {
     "name": "stdout",
     "output_type": "stream",
     "text": [
      "Classe prédite: [1]\n",
      "Probabilités: [[0.36344709 0.63655291]]\n"
     ]
    },
    {
     "name": "stderr",
     "output_type": "stream",
     "text": [
      "C:\\Users\\bensa\\anaconda3\\Lib\\site-packages\\sklearn\\base.py:493: UserWarning: X does not have valid feature names, but LogisticRegressionCV was fitted with feature names\n",
      "  warnings.warn(\n",
      "C:\\Users\\bensa\\anaconda3\\Lib\\site-packages\\sklearn\\base.py:493: UserWarning: X does not have valid feature names, but LogisticRegressionCV was fitted with feature names\n",
      "  warnings.warn(\n"
     ]
    }
   ],
   "source": [
    "# Prédiction et probabilités\n",
    "X2 = np.array([1,0.5,1,0.5,0.8,0.6]).reshape(-1, 1)\n",
    "y_pred2 = clf2.predict(X.T)\n",
    "print(\"Classe prédite:\", y_pred2)\n",
    "\n",
    "# Probabilités pour chaque classe\n",
    "probabilities = clf2.predict_proba(X2.T)\n",
    "print(\"Probabilités:\", probabilities)"
   ]
  },
  {
   "cell_type": "code",
   "execution_count": 100,
   "id": "84970874-ac89-408e-bd35-b4a56d4d37e4",
   "metadata": {},
   "outputs": [
    {
     "data": {
      "image/png": "[encoded data removed]",
      "text/plain": [
       "<Figure size 640x480 with 1 Axes>"
      ]
     },
     "metadata": {},
     "output_type": "display_data"
    }
   ],
   "source": [
    "sns.histplot(data=probabilities, bins=20, kde=True)\n",
    "plt.xlabel(\"Probabilité\")\n",
    "plt.ylabel(\"Nombre d'échantillons\")\n",
    "plt.title(\"Distribution des probabilités par classe\")\n",
    "plt.show()"
   ]
  },
  {
   "cell_type": "code",
   "execution_count": 102,
   "id": "e8c3937e-a76d-4a79-b164-bb69476003c6",
   "metadata": {},
   "outputs": [
    {
     "data": {
      "text/plain": [
       "Text(0.5, 1.0, 'Comparaison de 2 Modeles')"
      ]
     },
     "execution_count": 102,
     "metadata": {},
     "output_type": "execute_result"
    },
    {
     "data": {
      "image/png": "[encoded data removed]",
      "text/plain": [
       "<Figure size 640x480 with 1 Axes>"
      ]
     },
     "metadata": {},
     "output_type": "display_data"
    }
   ],
   "source": [
    "plt.hist([Score1, Score2, Score3, Score4], label = [Score1, Score2, Score3, Score4])\n",
    "\n",
    "plt.legend(loc='upper right')\n",
    "plt.xlabel('Valeurs')\n",
    "plt.ylabel('Fréquence')\n",
    "plt.title('Comparaison de 2 Modeles')"
   ]
  },
  {
   "cell_type": "code",
   "execution_count": 104,
   "id": "8736d411-01ce-4636-a1fd-2e2ad37c4894",
   "metadata": {},
   "outputs": [
    {
     "data": {
      "text/plain": [
       "<matplotlib.collections.PathCollection at 0x253dfdb9e80>"
      ]
     },
     "execution_count": 104,
     "metadata": {},
     "output_type": "execute_result"
    },
    {
     "data": {
      "image/png": "[encoded data removed]",
      "text/plain": [
       "<Figure size 640x480 with 1 Axes>"
      ]
     },
     "metadata": {},
     "output_type": "display_data"
    }
   ],
   "source": [
    "plt.scatter(Score1, Score2, label='Données 1')\n",
    "plt.scatter(Score3, Score4, label='Données 1')"
   ]
  },
  {
   "cell_type": "markdown",
   "id": "a28f0c88-e626-4838-a635-08f26d5f5183",
   "metadata": {},
   "source": [
    "# # modelisation generale de differente modeles et comparaison"
   ]
  },
  {
   "cell_type": "code",
   "execution_count": 107,
   "id": "709fdb3a-6fe8-437f-b67d-fe9a8e34faef",
   "metadata": {},
   "outputs": [],
   "source": [
    "from sklearn.metrics import f1_score, confusion_matrix, classification_report\n",
    "from sklearn.model_selection import learning_curve\n",
    "def evaluation(model):\n",
    "    \n",
    "    model.fit(X_train, y_train)\n",
    "    ypred = model.predict(X_test)\n",
    "    \n",
    "    print(confusion_matrix(y_test, ypred))\n",
    "    print(classification_report(y_test, ypred))\n",
    "    \n",
    "    N, train_score, val_score = learning_curve(model, X_train, y_train,\n",
    "                                              cv=4, scoring='f1',\n",
    "                                               train_sizes=np.linspace(0.1, 1, 10))\n",
    "    \n",
    "    \n",
    "    plt.figure(figsize=(12, 8))\n",
    "    plt.plot(N, train_score.mean(axis=1), label='train score')\n",
    "    plt.plot(N, val_score.mean(axis=1), label='validation score')\n",
    "    plt.legend()\n",
    "    \n",
    "    "
   ]
  },
  {
   "cell_type": "code",
   "execution_count": 109,
   "id": "8a21f408-2480-4011-a211-9082b3c6ba45",
   "metadata": {},
   "outputs": [],
   "source": [
    "preprocessor = make_pipeline(PolynomialFeatures(2, include_bias=False), SelectKBest(f_classif, k=10))"
   ]
  },
  {
   "cell_type": "code",
   "execution_count": 111,
   "id": "83629777-fe7f-4d47-bbcd-ae1f47bf75af",
   "metadata": {},
   "outputs": [],
   "source": [
    "RandomForest = make_pipeline(preprocessor, RandomForestClassifier(random_state=0))\n",
    "AdaBoost = make_pipeline(preprocessor, AdaBoostClassifier(random_state=0))\n",
    "SVM = make_pipeline(preprocessor, StandardScaler(), SVC(random_state=0))\n",
    "KNN = make_pipeline(preprocessor, StandardScaler(), KNeighborsClassifier())"
   ]
  },
  {
   "cell_type": "code",
   "execution_count": 113,
   "id": "c3d6c204-f300-4d03-88e8-00f3353181f8",
   "metadata": {},
   "outputs": [],
   "source": [
    "dict_of_models = {'RandomForest': RandomForest,\n",
    "                  'AdaBoost' : AdaBoost,\n",
    "                  'SVM': SVM,\n",
    "                  'KNN': KNN\n",
    "                 }"
   ]
  },
  {
   "cell_type": "code",
   "execution_count": 115,
   "id": "1248d0b9-67f5-4f38-aa50-b1cc0ba7c4f5",
   "metadata": {},
   "outputs": [
    {
     "name": "stdout",
     "output_type": "stream",
     "text": [
      "RandomForest\n",
      "[[ 8 12]\n",
      " [ 8 11]]\n",
      "              precision    recall  f1-score   support\n",
      "\n",
      "           0       0.50      0.40      0.44        20\n",
      "           1       0.48      0.58      0.52        19\n",
      "\n",
      "    accuracy                           0.49        39\n",
      "   macro avg       0.49      0.49      0.48        39\n",
      "weighted avg       0.49      0.49      0.48        39\n",
      "\n",
      "AdaBoost\n",
      "[[ 8 12]\n",
      " [ 5 14]]\n",
      "              precision    recall  f1-score   support\n",
      "\n",
      "           0       0.62      0.40      0.48        20\n",
      "           1       0.54      0.74      0.62        19\n",
      "\n",
      "    accuracy                           0.56        39\n",
      "   macro avg       0.58      0.57      0.55        39\n",
      "weighted avg       0.58      0.56      0.55        39\n",
      "\n"
     ]
    },
    {
     "name": "stderr",
     "output_type": "stream",
     "text": [
      "C:\\Users\\bensa\\anaconda3\\Lib\\site-packages\\sklearn\\ensemble\\_weight_boosting.py:519: FutureWarning: The SAMME.R algorithm (the default) is deprecated and will be removed in 1.6. Use the SAMME algorithm to circumvent this warning.\n",
      "  warnings.warn(\n",
      "C:\\Users\\bensa\\anaconda3\\Lib\\site-packages\\sklearn\\ensemble\\_weight_boosting.py:519: FutureWarning: The SAMME.R algorithm (the default) is deprecated and will be removed in 1.6. Use the SAMME algorithm to circumvent this warning.\n",
      "  warnings.warn(\n",
      "C:\\Users\\bensa\\anaconda3\\Lib\\site-packages\\sklearn\\ensemble\\_weight_boosting.py:519: FutureWarning: The SAMME.R algorithm (the default) is deprecated and will be removed in 1.6. Use the SAMME algorithm to circumvent this warning.\n",
      "  warnings.warn(\n",
      "C:\\Users\\bensa\\anaconda3\\Lib\\site-packages\\sklearn\\ensemble\\_weight_boosting.py:519: FutureWarning: The SAMME.R algorithm (the default) is deprecated and will be removed in 1.6. Use the SAMME algorithm to circumvent this warning.\n",
      "  warnings.warn(\n",
      "C:\\Users\\bensa\\anaconda3\\Lib\\site-packages\\sklearn\\ensemble\\_weight_boosting.py:519: FutureWarning: The SAMME.R algorithm (the default) is deprecated and will be removed in 1.6. Use the SAMME algorithm to circumvent this warning.\n",
      "  warnings.warn(\n",
      "C:\\Users\\bensa\\anaconda3\\Lib\\site-packages\\sklearn\\ensemble\\_weight_boosting.py:519: FutureWarning: The SAMME.R algorithm (the default) is deprecated and will be removed in 1.6. Use the SAMME algorithm to circumvent this warning.\n",
      "  warnings.warn(\n",
      "C:\\Users\\bensa\\anaconda3\\Lib\\site-packages\\sklearn\\ensemble\\_weight_boosting.py:519: FutureWarning: The SAMME.R algorithm (the default) is deprecated and will be removed in 1.6. Use the SAMME algorithm to circumvent this warning.\n",
      "  warnings.warn(\n",
      "C:\\Users\\bensa\\anaconda3\\Lib\\site-packages\\sklearn\\ensemble\\_weight_boosting.py:519: FutureWarning: The SAMME.R algorithm (the default) is deprecated and will be removed in 1.6. Use the SAMME algorithm to circumvent this warning.\n",
      "  warnings.warn(\n",
      "C:\\Users\\bensa\\anaconda3\\Lib\\site-packages\\sklearn\\ensemble\\_weight_boosting.py:519: FutureWarning: The SAMME.R algorithm (the default) is deprecated and will be removed in 1.6. Use the SAMME algorithm to circumvent this warning.\n",
      "  warnings.warn(\n",
      "C:\\Users\\bensa\\anaconda3\\Lib\\site-packages\\sklearn\\ensemble\\_weight_boosting.py:519: FutureWarning: The SAMME.R algorithm (the default) is deprecated and will be removed in 1.6. Use the SAMME algorithm to circumvent this warning.\n",
      "  warnings.warn(\n",
      "C:\\Users\\bensa\\anaconda3\\Lib\\site-packages\\sklearn\\ensemble\\_weight_boosting.py:519: FutureWarning: The SAMME.R algorithm (the default) is deprecated and will be removed in 1.6. Use the SAMME algorithm to circumvent this warning.\n",
      "  warnings.warn(\n",
      "C:\\Users\\bensa\\anaconda3\\Lib\\site-packages\\sklearn\\ensemble\\_weight_boosting.py:519: FutureWarning: The SAMME.R algorithm (the default) is deprecated and will be removed in 1.6. Use the SAMME algorithm to circumvent this warning.\n",
      "  warnings.warn(\n",
      "C:\\Users\\bensa\\anaconda3\\Lib\\site-packages\\sklearn\\ensemble\\_weight_boosting.py:519: FutureWarning: The SAMME.R algorithm (the default) is deprecated and will be removed in 1.6. Use the SAMME algorithm to circumvent this warning.\n",
      "  warnings.warn(\n",
      "C:\\Users\\bensa\\anaconda3\\Lib\\site-packages\\sklearn\\ensemble\\_weight_boosting.py:519: FutureWarning: The SAMME.R algorithm (the default) is deprecated and will be removed in 1.6. Use the SAMME algorithm to circumvent this warning.\n",
      "  warnings.warn(\n",
      "C:\\Users\\bensa\\anaconda3\\Lib\\site-packages\\sklearn\\ensemble\\_weight_boosting.py:519: FutureWarning: The SAMME.R algorithm (the default) is deprecated and will be removed in 1.6. Use the SAMME algorithm to circumvent this warning.\n",
      "  warnings.warn(\n",
      "C:\\Users\\bensa\\anaconda3\\Lib\\site-packages\\sklearn\\ensemble\\_weight_boosting.py:519: FutureWarning: The SAMME.R algorithm (the default) is deprecated and will be removed in 1.6. Use the SAMME algorithm to circumvent this warning.\n",
      "  warnings.warn(\n",
      "C:\\Users\\bensa\\anaconda3\\Lib\\site-packages\\sklearn\\ensemble\\_weight_boosting.py:519: FutureWarning: The SAMME.R algorithm (the default) is deprecated and will be removed in 1.6. Use the SAMME algorithm to circumvent this warning.\n",
      "  warnings.warn(\n",
      "C:\\Users\\bensa\\anaconda3\\Lib\\site-packages\\sklearn\\ensemble\\_weight_boosting.py:519: FutureWarning: The SAMME.R algorithm (the default) is deprecated and will be removed in 1.6. Use the SAMME algorithm to circumvent this warning.\n",
      "  warnings.warn(\n",
      "C:\\Users\\bensa\\anaconda3\\Lib\\site-packages\\sklearn\\ensemble\\_weight_boosting.py:519: FutureWarning: The SAMME.R algorithm (the default) is deprecated and will be removed in 1.6. Use the SAMME algorithm to circumvent this warning.\n",
      "  warnings.warn(\n",
      "C:\\Users\\bensa\\anaconda3\\Lib\\site-packages\\sklearn\\ensemble\\_weight_boosting.py:519: FutureWarning: The SAMME.R algorithm (the default) is deprecated and will be removed in 1.6. Use the SAMME algorithm to circumvent this warning.\n",
      "  warnings.warn(\n",
      "C:\\Users\\bensa\\anaconda3\\Lib\\site-packages\\sklearn\\ensemble\\_weight_boosting.py:519: FutureWarning: The SAMME.R algorithm (the default) is deprecated and will be removed in 1.6. Use the SAMME algorithm to circumvent this warning.\n",
      "  warnings.warn(\n",
      "C:\\Users\\bensa\\anaconda3\\Lib\\site-packages\\sklearn\\ensemble\\_weight_boosting.py:519: FutureWarning: The SAMME.R algorithm (the default) is deprecated and will be removed in 1.6. Use the SAMME algorithm to circumvent this warning.\n",
      "  warnings.warn(\n",
      "C:\\Users\\bensa\\anaconda3\\Lib\\site-packages\\sklearn\\ensemble\\_weight_boosting.py:519: FutureWarning: The SAMME.R algorithm (the default) is deprecated and will be removed in 1.6. Use the SAMME algorithm to circumvent this warning.\n",
      "  warnings.warn(\n",
      "C:\\Users\\bensa\\anaconda3\\Lib\\site-packages\\sklearn\\ensemble\\_weight_boosting.py:519: FutureWarning: The SAMME.R algorithm (the default) is deprecated and will be removed in 1.6. Use the SAMME algorithm to circumvent this warning.\n",
      "  warnings.warn(\n",
      "C:\\Users\\bensa\\anaconda3\\Lib\\site-packages\\sklearn\\ensemble\\_weight_boosting.py:519: FutureWarning: The SAMME.R algorithm (the default) is deprecated and will be removed in 1.6. Use the SAMME algorithm to circumvent this warning.\n",
      "  warnings.warn(\n",
      "C:\\Users\\bensa\\anaconda3\\Lib\\site-packages\\sklearn\\ensemble\\_weight_boosting.py:519: FutureWarning: The SAMME.R algorithm (the default) is deprecated and will be removed in 1.6. Use the SAMME algorithm to circumvent this warning.\n",
      "  warnings.warn(\n",
      "C:\\Users\\bensa\\anaconda3\\Lib\\site-packages\\sklearn\\ensemble\\_weight_boosting.py:519: FutureWarning: The SAMME.R algorithm (the default) is deprecated and will be removed in 1.6. Use the SAMME algorithm to circumvent this warning.\n",
      "  warnings.warn(\n",
      "C:\\Users\\bensa\\anaconda3\\Lib\\site-packages\\sklearn\\ensemble\\_weight_boosting.py:519: FutureWarning: The SAMME.R algorithm (the default) is deprecated and will be removed in 1.6. Use the SAMME algorithm to circumvent this warning.\n",
      "  warnings.warn(\n",
      "C:\\Users\\bensa\\anaconda3\\Lib\\site-packages\\sklearn\\ensemble\\_weight_boosting.py:519: FutureWarning: The SAMME.R algorithm (the default) is deprecated and will be removed in 1.6. Use the SAMME algorithm to circumvent this warning.\n",
      "  warnings.warn(\n",
      "C:\\Users\\bensa\\anaconda3\\Lib\\site-packages\\sklearn\\ensemble\\_weight_boosting.py:519: FutureWarning: The SAMME.R algorithm (the default) is deprecated and will be removed in 1.6. Use the SAMME algorithm to circumvent this warning.\n",
      "  warnings.warn(\n",
      "C:\\Users\\bensa\\anaconda3\\Lib\\site-packages\\sklearn\\ensemble\\_weight_boosting.py:519: FutureWarning: The SAMME.R algorithm (the default) is deprecated and will be removed in 1.6. Use the SAMME algorithm to circumvent this warning.\n",
      "  warnings.warn(\n",
      "C:\\Users\\bensa\\anaconda3\\Lib\\site-packages\\sklearn\\ensemble\\_weight_boosting.py:519: FutureWarning: The SAMME.R algorithm (the default) is deprecated and will be removed in 1.6. Use the SAMME algorithm to circumvent this warning.\n",
      "  warnings.warn(\n",
      "C:\\Users\\bensa\\anaconda3\\Lib\\site-packages\\sklearn\\ensemble\\_weight_boosting.py:519: FutureWarning: The SAMME.R algorithm (the default) is deprecated and will be removed in 1.6. Use the SAMME algorithm to circumvent this warning.\n",
      "  warnings.warn(\n",
      "C:\\Users\\bensa\\anaconda3\\Lib\\site-packages\\sklearn\\ensemble\\_weight_boosting.py:519: FutureWarning: The SAMME.R algorithm (the default) is deprecated and will be removed in 1.6. Use the SAMME algorithm to circumvent this warning.\n",
      "  warnings.warn(\n",
      "C:\\Users\\bensa\\anaconda3\\Lib\\site-packages\\sklearn\\ensemble\\_weight_boosting.py:519: FutureWarning: The SAMME.R algorithm (the default) is deprecated and will be removed in 1.6. Use the SAMME algorithm to circumvent this warning.\n",
      "  warnings.warn(\n",
      "C:\\Users\\bensa\\anaconda3\\Lib\\site-packages\\sklearn\\ensemble\\_weight_boosting.py:519: FutureWarning: The SAMME.R algorithm (the default) is deprecated and will be removed in 1.6. Use the SAMME algorithm to circumvent this warning.\n",
      "  warnings.warn(\n",
      "C:\\Users\\bensa\\anaconda3\\Lib\\site-packages\\sklearn\\ensemble\\_weight_boosting.py:519: FutureWarning: The SAMME.R algorithm (the default) is deprecated and will be removed in 1.6. Use the SAMME algorithm to circumvent this warning.\n",
      "  warnings.warn(\n",
      "C:\\Users\\bensa\\anaconda3\\Lib\\site-packages\\sklearn\\ensemble\\_weight_boosting.py:519: FutureWarning: The SAMME.R algorithm (the default) is deprecated and will be removed in 1.6. Use the SAMME algorithm to circumvent this warning.\n",
      "  warnings.warn(\n",
      "C:\\Users\\bensa\\anaconda3\\Lib\\site-packages\\sklearn\\ensemble\\_weight_boosting.py:519: FutureWarning: The SAMME.R algorithm (the default) is deprecated and will be removed in 1.6. Use the SAMME algorithm to circumvent this warning.\n",
      "  warnings.warn(\n",
      "C:\\Users\\bensa\\anaconda3\\Lib\\site-packages\\sklearn\\ensemble\\_weight_boosting.py:519: FutureWarning: The SAMME.R algorithm (the default) is deprecated and will be removed in 1.6. Use the SAMME algorithm to circumvent this warning.\n",
      "  warnings.warn(\n",
      "C:\\Users\\bensa\\anaconda3\\Lib\\site-packages\\sklearn\\ensemble\\_weight_boosting.py:519: FutureWarning: The SAMME.R algorithm (the default) is deprecated and will be removed in 1.6. Use the SAMME algorithm to circumvent this warning.\n",
      "  warnings.warn(\n"
     ]
    },
    {
     "name": "stdout",
     "output_type": "stream",
     "text": [
      "SVM\n",
      "[[10 10]\n",
      " [11  8]]\n",
      "              precision    recall  f1-score   support\n",
      "\n",
      "           0       0.48      0.50      0.49        20\n",
      "           1       0.44      0.42      0.43        19\n",
      "\n",
      "    accuracy                           0.46        39\n",
      "   macro avg       0.46      0.46      0.46        39\n",
      "weighted avg       0.46      0.46      0.46        39\n",
      "\n",
      "KNN\n",
      "[[ 9 11]\n",
      " [10  9]]\n",
      "              precision    recall  f1-score   support\n",
      "\n",
      "           0       0.47      0.45      0.46        20\n",
      "           1       0.45      0.47      0.46        19\n",
      "\n",
      "    accuracy                           0.46        39\n",
      "   macro avg       0.46      0.46      0.46        39\n",
      "weighted avg       0.46      0.46      0.46        39\n",
      "\n"
     ]
    },
    {
     "name": "stderr",
     "output_type": "stream",
     "text": [
      "C:\\Users\\bensa\\anaconda3\\Lib\\site-packages\\joblib\\externals\\loky\\backend\\context.py:136: UserWarning: Could not find the number of physical cores for the following reason:\n",
      "found 0 physical cores < 1\n",
      "Returning the number of logical cores instead. You can silence this warning by setting LOKY_MAX_CPU_COUNT to the number of cores you want to use.\n",
      "  warnings.warn(\n",
      "  File \"C:\\Users\\bensa\\anaconda3\\Lib\\site-packages\\joblib\\externals\\loky\\backend\\context.py\", line 282, in _count_physical_cores\n",
      "    raise ValueError(f\"found {cpu_count_physical} physical cores < 1\")\n"
     ]
    },
    {
     "data": {
      "image/png": "[encoded data removed]",
      "text/plain": [
       "<Figure size 1200x800 with 1 Axes>"
      ]
     },
     "metadata": {},
     "output_type": "display_data"
    },
    {
     "data": {
      "image/png": "[encoded data removed]",
      "text/plain": [
       "<Figure size 1200x800 with 1 Axes>"
      ]
     },
     "metadata": {},
     "output_type": "display_data"
    },
    {
     "data": {
      "image/png": "[encoded data removed]",
      "text/plain": [
       "<Figure size 1200x800 with 1 Axes>"
      ]
     },
     "metadata": {},
     "output_type": "display_data"
    },
    {
     "data": {
      "image/png": "[encoded data removed]",
      "text/plain": [
       "<Figure size 1200x800 with 1 Axes>"
      ]
     },
     "metadata": {},
     "output_type": "display_data"
    }
   ],
   "source": [
    "for name, model in dict_of_models.items():\n",
    "    print(name)\n",
    "    evaluation(model)"
   ]
  },
  {
   "cell_type": "markdown",
   "id": "81ea80e0-999b-4205-b645-45c577095d33",
   "metadata": {},
   "source": [
    "###  En va continuer avec SVC"
   ]
  },
  {
   "cell_type": "markdown",
   "id": "350ee815-902b-49dd-9b75-15b9e4a8d12f",
   "metadata": {},
   "source": [
    "### optimisatiion"
   ]
  },
  {
   "cell_type": "code",
   "execution_count": 118,
   "id": "942e1263-d06b-4629-92cd-c32fb3343f4c",
   "metadata": {},
   "outputs": [],
   "source": [
    "from sklearn.model_selection import GridSearchCV, RandomizedSearchCV"
   ]
  },
  {
   "cell_type": "code",
   "execution_count": 119,
   "id": "f1567089-abdc-4b4e-8ee7-b38727dc1adb",
   "metadata": {},
   "outputs": [
    {
     "data": {
      "text/html": [
       "<style>#sk-container-id-1 {\n",
       "  /* Definition of color scheme common for light and dark mode */\n",
       "  --sklearn-color-text: black;\n",
       "  --sklearn-color-line: gray;\n",
       "  /* Definition of color scheme for unfitted estimators */\n",
       "  --sklearn-color-unfitted-level-0: #fff5e6;\n",
       "  --sklearn-color-unfitted-level-1: #f6e4d2;\n",
       "  --sklearn-color-unfitted-level-2: #ffe0b3;\n",
       "  --sklearn-color-unfitted-level-3: chocolate;\n",
       "  /* Definition of color scheme for fitted estimators */\n",
       "  --sklearn-color-fitted-level-0: #f0f8ff;\n",
       "  --sklearn-color-fitted-level-1: #d4ebff;\n",
       "  --sklearn-color-fitted-level-2: #b3dbfd;\n",
       "  --sklearn-color-fitted-level-3: cornflowerblue;\n",
       "\n",
       "  /* Specific color for light theme */\n",
       "  --sklearn-color-text-on-default-background: var(--sg-text-color, var(--theme-code-foreground, var(--jp-content-font-color1, black)));\n",
       "  --sklearn-color-background: var(--sg-background-color, var(--theme-background, var(--jp-layout-color0, white)));\n",
       "  --sklearn-color-border-box: var(--sg-text-color, var(--theme-code-foreground, var(--jp-content-font-color1, black)));\n",
       "  --sklearn-color-icon: #696969;\n",
       "\n",
       "  @media (prefers-color-scheme: dark) {\n",
       "    /* Redefinition of color scheme for dark theme */\n",
       "    --sklearn-color-text-on-default-background: var(--sg-text-color, var(--theme-code-foreground, var(--jp-content-font-color1, white)));\n",
       "    --sklearn-color-background: var(--sg-background-color, var(--theme-background, var(--jp-layout-color0, #111)));\n",
       "    --sklearn-color-border-box: var(--sg-text-color, var(--theme-code-foreground, var(--jp-content-font-color1, white)));\n",
       "    --sklearn-color-icon: #878787;\n",
       "  }\n",
       "}\n",
       "\n",
       "#sk-container-id-1 {\n",
       "  color: var(--sklearn-color-text);\n",
       "}\n",
       "\n",
       "#sk-container-id-1 pre {\n",
       "  padding: 0;\n",
       "}\n",
       "\n",
       "#sk-container-id-1 input.sk-hidden--visually {\n",
       "  border: 0;\n",
       "  clip: rect(1px 1px 1px 1px);\n",
       "  clip: rect(1px, 1px, 1px, 1px);\n",
       "  height: 1px;\n",
       "  margin: -1px;\n",
       "  overflow: hidden;\n",
       "  padding: 0;\n",
       "  position: absolute;\n",
       "  width: 1px;\n",
       "}\n",
       "\n",
       "#sk-container-id-1 div.sk-dashed-wrapped {\n",
       "  border: 1px dashed var(--sklearn-color-line);\n",
       "  margin: 0 0.4em 0.5em 0.4em;\n",
       "  box-sizing: border-box;\n",
       "  padding-bottom: 0.4em;\n",
       "  background-color: var(--sklearn-color-background);\n",
       "}\n",
       "\n",
       "#sk-container-id-1 div.sk-container {\n",
       "  /* jupyter's `normalize.less` sets `[hidden] { display: none; }`\n",
       "     but bootstrap.min.css set `[hidden] { display: none !important; }`\n",
       "     so we also need the `!important` here to be able to override the\n",
       "     default hidden behavior on the sphinx rendered scikit-learn.org.\n",
       "     See: https://github.com/scikit-learn/scikit-learn/issues/21755 */\n",
       "  display: inline-block !important;\n",
       "  position: relative;\n",
       "}\n",
       "\n",
       "#sk-container-id-1 div.sk-text-repr-fallback {\n",
       "  display: none;\n",
       "}\n",
       "\n",
       "div.sk-parallel-item,\n",
       "div.sk-serial,\n",
       "div.sk-item {\n",
       "  /* draw centered vertical line to link estimators */\n",
       "  background-image: linear-gradient(var(--sklearn-color-text-on-default-background), var(--sklearn-color-text-on-default-background));\n",
       "  background-size: 2px 100%;\n",
       "  background-repeat: no-repeat;\n",
       "  background-position: center center;\n",
       "}\n",
       "\n",
       "/* Parallel-specific style estimator block */\n",
       "\n",
       "#sk-container-id-1 div.sk-parallel-item::after {\n",
       "  content: \"\";\n",
       "  width: 100%;\n",
       "  border-bottom: 2px solid var(--sklearn-color-text-on-default-background);\n",
       "  flex-grow: 1;\n",
       "}\n",
       "\n",
       "#sk-container-id-1 div.sk-parallel {\n",
       "  display: flex;\n",
       "  align-items: stretch;\n",
       "  justify-content: center;\n",
       "  background-color: var(--sklearn-color-background);\n",
       "  position: relative;\n",
       "}\n",
       "\n",
       "#sk-container-id-1 div.sk-parallel-item {\n",
       "  display: flex;\n",
       "  flex-direction: column;\n",
       "}\n",
       "\n",
       "#sk-container-id-1 div.sk-parallel-item:first-child::after {\n",
       "  align-self: flex-end;\n",
       "  width: 50%;\n",
       "}\n",
       "\n",
       "#sk-container-id-1 div.sk-parallel-item:last-child::after {\n",
       "  align-self: flex-start;\n",
       "  width: 50%;\n",
       "}\n",
       "\n",
       "#sk-container-id-1 div.sk-parallel-item:only-child::after {\n",
       "  width: 0;\n",
       "}\n",
       "\n",
       "/* Serial-specific style estimator block */\n",
       "\n",
       "#sk-container-id-1 div.sk-serial {\n",
       "  display: flex;\n",
       "  flex-direction: column;\n",
       "  align-items: center;\n",
       "  background-color: var(--sklearn-color-background);\n",
       "  padding-right: 1em;\n",
       "  padding-left: 1em;\n",
       "}\n",
       "\n",
       "\n",
       "/* Toggleable style: style used for estimator/Pipeline/ColumnTransformer box that is\n",
       "clickable and can be expanded/collapsed.\n",
       "- Pipeline and ColumnTransformer use this feature and define the default style\n",
       "- Estimators will overwrite some part of the style using the `sk-estimator` class\n",
       "*/\n",
       "\n",
       "/* Pipeline and ColumnTransformer style (default) */\n",
       "\n",
       "#sk-container-id-1 div.sk-toggleable {\n",
       "  /* Default theme specific background. It is overwritten whether we have a\n",
       "  specific estimator or a Pipeline/ColumnTransformer */\n",
       "  background-color: var(--sklearn-color-background);\n",
       "}\n",
       "\n",
       "/* Toggleable label */\n",
       "#sk-container-id-1 label.sk-toggleable__label {\n",
       "  cursor: pointer;\n",
       "  display: block;\n",
       "  width: 100%;\n",
       "  margin-bottom: 0;\n",
       "  padding: 0.5em;\n",
       "  box-sizing: border-box;\n",
       "  text-align: center;\n",
       "}\n",
       "\n",
       "#sk-container-id-1 label.sk-toggleable__label-arrow:before {\n",
       "  /* Arrow on the left of the label */\n",
       "  content: \"▸\";\n",
       "  float: left;\n",
       "  margin-right: 0.25em;\n",
       "  color: var(--sklearn-color-icon);\n",
       "}\n",
       "\n",
       "#sk-container-id-1 label.sk-toggleable__label-arrow:hover:before {\n",
       "  color: var(--sklearn-color-text);\n",
       "}\n",
       "\n",
       "/* Toggleable content - dropdown */\n",
       "\n",
       "#sk-container-id-1 div.sk-toggleable__content {\n",
       "  max-height: 0;\n",
       "  max-width: 0;\n",
       "  overflow: hidden;\n",
       "  text-align: left;\n",
       "  /* unfitted */\n",
       "  background-color: var(--sklearn-color-unfitted-level-0);\n",
       "}\n",
       "\n",
       "#sk-container-id-1 div.sk-toggleable__content.fitted {\n",
       "  /* fitted */\n",
       "  background-color: var(--sklearn-color-fitted-level-0);\n",
       "}\n",
       "\n",
       "#sk-container-id-1 div.sk-toggleable__content pre {\n",
       "  margin: 0.2em;\n",
       "  border-radius: 0.25em;\n",
       "  color: var(--sklearn-color-text);\n",
       "  /* unfitted */\n",
       "  background-color: var(--sklearn-color-unfitted-level-0);\n",
       "}\n",
       "\n",
       "#sk-container-id-1 div.sk-toggleable__content.fitted pre {\n",
       "  /* unfitted */\n",
       "  background-color: var(--sklearn-color-fitted-level-0);\n",
       "}\n",
       "\n",
       "#sk-container-id-1 input.sk-toggleable__control:checked~div.sk-toggleable__content {\n",
       "  /* Expand drop-down */\n",
       "  max-height: 200px;\n",
       "  max-width: 100%;\n",
       "  overflow: auto;\n",
       "}\n",
       "\n",
       "#sk-container-id-1 input.sk-toggleable__control:checked~label.sk-toggleable__label-arrow:before {\n",
       "  content: \"▾\";\n",
       "}\n",
       "\n",
       "/* Pipeline/ColumnTransformer-specific style */\n",
       "\n",
       "#sk-container-id-1 div.sk-label input.sk-toggleable__control:checked~label.sk-toggleable__label {\n",
       "  color: var(--sklearn-color-text);\n",
       "  background-color: var(--sklearn-color-unfitted-level-2);\n",
       "}\n",
       "\n",
       "#sk-container-id-1 div.sk-label.fitted input.sk-toggleable__control:checked~label.sk-toggleable__label {\n",
       "  background-color: var(--sklearn-color-fitted-level-2);\n",
       "}\n",
       "\n",
       "/* Estimator-specific style */\n",
       "\n",
       "/* Colorize estimator box */\n",
       "#sk-container-id-1 div.sk-estimator input.sk-toggleable__control:checked~label.sk-toggleable__label {\n",
       "  /* unfitted */\n",
       "  background-color: var(--sklearn-color-unfitted-level-2);\n",
       "}\n",
       "\n",
       "#sk-container-id-1 div.sk-estimator.fitted input.sk-toggleable__control:checked~label.sk-toggleable__label {\n",
       "  /* fitted */\n",
       "  background-color: var(--sklearn-color-fitted-level-2);\n",
       "}\n",
       "\n",
       "#sk-container-id-1 div.sk-label label.sk-toggleable__label,\n",
       "#sk-container-id-1 div.sk-label label {\n",
       "  /* The background is the default theme color */\n",
       "  color: var(--sklearn-color-text-on-default-background);\n",
       "}\n",
       "\n",
       "/* On hover, darken the color of the background */\n",
       "#sk-container-id-1 div.sk-label:hover label.sk-toggleable__label {\n",
       "  color: var(--sklearn-color-text);\n",
       "  background-color: var(--sklearn-color-unfitted-level-2);\n",
       "}\n",
       "\n",
       "/* Label box, darken color on hover, fitted */\n",
       "#sk-container-id-1 div.sk-label.fitted:hover label.sk-toggleable__label.fitted {\n",
       "  color: var(--sklearn-color-text);\n",
       "  background-color: var(--sklearn-color-fitted-level-2);\n",
       "}\n",
       "\n",
       "/* Estimator label */\n",
       "\n",
       "#sk-container-id-1 div.sk-label label {\n",
       "  font-family: monospace;\n",
       "  font-weight: bold;\n",
       "  display: inline-block;\n",
       "  line-height: 1.2em;\n",
       "}\n",
       "\n",
       "#sk-container-id-1 div.sk-label-container {\n",
       "  text-align: center;\n",
       "}\n",
       "\n",
       "/* Estimator-specific */\n",
       "#sk-container-id-1 div.sk-estimator {\n",
       "  font-family: monospace;\n",
       "  border: 1px dotted var(--sklearn-color-border-box);\n",
       "  border-radius: 0.25em;\n",
       "  box-sizing: border-box;\n",
       "  margin-bottom: 0.5em;\n",
       "  /* unfitted */\n",
       "  background-color: var(--sklearn-color-unfitted-level-0);\n",
       "}\n",
       "\n",
       "#sk-container-id-1 div.sk-estimator.fitted {\n",
       "  /* fitted */\n",
       "  background-color: var(--sklearn-color-fitted-level-0);\n",
       "}\n",
       "\n",
       "/* on hover */\n",
       "#sk-container-id-1 div.sk-estimator:hover {\n",
       "  /* unfitted */\n",
       "  background-color: var(--sklearn-color-unfitted-level-2);\n",
       "}\n",
       "\n",
       "#sk-container-id-1 div.sk-estimator.fitted:hover {\n",
       "  /* fitted */\n",
       "  background-color: var(--sklearn-color-fitted-level-2);\n",
       "}\n",
       "\n",
       "/* Specification for estimator info (e.g. \"i\" and \"?\") */\n",
       "\n",
       "/* Common style for \"i\" and \"?\" */\n",
       "\n",
       ".sk-estimator-doc-link,\n",
       "a:link.sk-estimator-doc-link,\n",
       "a:visited.sk-estimator-doc-link {\n",
       "  float: right;\n",
       "  font-size: smaller;\n",
       "  line-height: 1em;\n",
       "  font-family: monospace;\n",
       "  background-color: var(--sklearn-color-background);\n",
       "  border-radius: 1em;\n",
       "  height: 1em;\n",
       "  width: 1em;\n",
       "  text-decoration: none !important;\n",
       "  margin-left: 1ex;\n",
       "  /* unfitted */\n",
       "  border: var(--sklearn-color-unfitted-level-1) 1pt solid;\n",
       "  color: var(--sklearn-color-unfitted-level-1);\n",
       "}\n",
       "\n",
       ".sk-estimator-doc-link.fitted,\n",
       "a:link.sk-estimator-doc-link.fitted,\n",
       "a:visited.sk-estimator-doc-link.fitted {\n",
       "  /* fitted */\n",
       "  border: var(--sklearn-color-fitted-level-1) 1pt solid;\n",
       "  color: var(--sklearn-color-fitted-level-1);\n",
       "}\n",
       "\n",
       "/* On hover */\n",
       "div.sk-estimator:hover .sk-estimator-doc-link:hover,\n",
       ".sk-estimator-doc-link:hover,\n",
       "div.sk-label-container:hover .sk-estimator-doc-link:hover,\n",
       ".sk-estimator-doc-link:hover {\n",
       "  /* unfitted */\n",
       "  background-color: var(--sklearn-color-unfitted-level-3);\n",
       "  color: var(--sklearn-color-background);\n",
       "  text-decoration: none;\n",
       "}\n",
       "\n",
       "div.sk-estimator.fitted:hover .sk-estimator-doc-link.fitted:hover,\n",
       ".sk-estimator-doc-link.fitted:hover,\n",
       "div.sk-label-container:hover .sk-estimator-doc-link.fitted:hover,\n",
       ".sk-estimator-doc-link.fitted:hover {\n",
       "  /* fitted */\n",
       "  background-color: var(--sklearn-color-fitted-level-3);\n",
       "  color: var(--sklearn-color-background);\n",
       "  text-decoration: none;\n",
       "}\n",
       "\n",
       "/* Span, style for the box shown on hovering the info icon */\n",
       ".sk-estimator-doc-link span {\n",
       "  display: none;\n",
       "  z-index: 9999;\n",
       "  position: relative;\n",
       "  font-weight: normal;\n",
       "  right: .2ex;\n",
       "  padding: .5ex;\n",
       "  margin: .5ex;\n",
       "  width: min-content;\n",
       "  min-width: 20ex;\n",
       "  max-width: 50ex;\n",
       "  color: var(--sklearn-color-text);\n",
       "  box-shadow: 2pt 2pt 4pt #999;\n",
       "  /* unfitted */\n",
       "  background: var(--sklearn-color-unfitted-level-0);\n",
       "  border: .5pt solid var(--sklearn-color-unfitted-level-3);\n",
       "}\n",
       "\n",
       ".sk-estimator-doc-link.fitted span {\n",
       "  /* fitted */\n",
       "  background: var(--sklearn-color-fitted-level-0);\n",
       "  border: var(--sklearn-color-fitted-level-3);\n",
       "}\n",
       "\n",
       ".sk-estimator-doc-link:hover span {\n",
       "  display: block;\n",
       "}\n",
       "\n",
       "/* \"?\"-specific style due to the `<a>` HTML tag */\n",
       "\n",
       "#sk-container-id-1 a.estimator_doc_link {\n",
       "  float: right;\n",
       "  font-size: 1rem;\n",
       "  line-height: 1em;\n",
       "  font-family: monospace;\n",
       "  background-color: var(--sklearn-color-background);\n",
       "  border-radius: 1rem;\n",
       "  height: 1rem;\n",
       "  width: 1rem;\n",
       "  text-decoration: none;\n",
       "  /* unfitted */\n",
       "  color: var(--sklearn-color-unfitted-level-1);\n",
       "  border: var(--sklearn-color-unfitted-level-1) 1pt solid;\n",
       "}\n",
       "\n",
       "#sk-container-id-1 a.estimator_doc_link.fitted {\n",
       "  /* fitted */\n",
       "  border: var(--sklearn-color-fitted-level-1) 1pt solid;\n",
       "  color: var(--sklearn-color-fitted-level-1);\n",
       "}\n",
       "\n",
       "/* On hover */\n",
       "#sk-container-id-1 a.estimator_doc_link:hover {\n",
       "  /* unfitted */\n",
       "  background-color: var(--sklearn-color-unfitted-level-3);\n",
       "  color: var(--sklearn-color-background);\n",
       "  text-decoration: none;\n",
       "}\n",
       "\n",
       "#sk-container-id-1 a.estimator_doc_link.fitted:hover {\n",
       "  /* fitted */\n",
       "  background-color: var(--sklearn-color-fitted-level-3);\n",
       "}\n",
       "</style><div id=\"sk-container-id-1\" class=\"sk-top-container\"><div class=\"sk-text-repr-fallback\"><pre>Pipeline(steps=[(&#x27;pipeline&#x27;,\n",
       "                 Pipeline(steps=[(&#x27;polynomialfeatures&#x27;,\n",
       "                                  PolynomialFeatures(include_bias=False)),\n",
       "                                 (&#x27;selectkbest&#x27;, SelectKBest())])),\n",
       "                (&#x27;standardscaler&#x27;, StandardScaler()),\n",
       "                (&#x27;svc&#x27;, SVC(random_state=0))])</pre><b>In a Jupyter environment, please rerun this cell to show the HTML representation or trust the notebook. <br />On GitHub, the HTML representation is unable to render, please try loading this page with nbviewer.org.</b></div><div class=\"sk-container\" hidden><div class=\"sk-item sk-dashed-wrapped\"><div class=\"sk-label-container\"><div class=\"sk-label fitted sk-toggleable\"><input class=\"sk-toggleable__control sk-hidden--visually\" id=\"sk-estimator-id-1\" type=\"checkbox\" ><label for=\"sk-estimator-id-1\" class=\"sk-toggleable__label fitted sk-toggleable__label-arrow fitted\">&nbsp;&nbsp;Pipeline<a class=\"sk-estimator-doc-link fitted\" rel=\"noreferrer\" target=\"_blank\" href=\"https://scikit-learn.org/1.4/modules/generated/sklearn.pipeline.Pipeline.html\">?<span>Documentation for Pipeline</span></a><span class=\"sk-estimator-doc-link fitted\">i<span>Fitted</span></span></label><div class=\"sk-toggleable__content fitted\"><pre>Pipeline(steps=[(&#x27;pipeline&#x27;,\n",
       "                 Pipeline(steps=[(&#x27;polynomialfeatures&#x27;,\n",
       "                                  PolynomialFeatures(include_bias=False)),\n",
       "                                 (&#x27;selectkbest&#x27;, SelectKBest())])),\n",
       "                (&#x27;standardscaler&#x27;, StandardScaler()),\n",
       "                (&#x27;svc&#x27;, SVC(random_state=0))])</pre></div> </div></div><div class=\"sk-serial\"><div class=\"sk-item\"><div class=\"sk-label-container\"><div class=\"sk-label fitted sk-toggleable\"><input class=\"sk-toggleable__control sk-hidden--visually\" id=\"sk-estimator-id-2\" type=\"checkbox\" ><label for=\"sk-estimator-id-2\" class=\"sk-toggleable__label fitted sk-toggleable__label-arrow fitted\">&nbsp;pipeline: Pipeline<a class=\"sk-estimator-doc-link fitted\" rel=\"noreferrer\" target=\"_blank\" href=\"https://scikit-learn.org/1.4/modules/generated/sklearn.pipeline.Pipeline.html\">?<span>Documentation for pipeline: Pipeline</span></a></label><div class=\"sk-toggleable__content fitted\"><pre>Pipeline(steps=[(&#x27;polynomialfeatures&#x27;, PolynomialFeatures(include_bias=False)),\n",
       "                (&#x27;selectkbest&#x27;, SelectKBest())])</pre></div> </div></div><div class=\"sk-serial\"><div class=\"sk-item\"><div class=\"sk-estimator fitted sk-toggleable\"><input class=\"sk-toggleable__control sk-hidden--visually\" id=\"sk-estimator-id-3\" type=\"checkbox\" ><label for=\"sk-estimator-id-3\" class=\"sk-toggleable__label fitted sk-toggleable__label-arrow fitted\">&nbsp;PolynomialFeatures<a class=\"sk-estimator-doc-link fitted\" rel=\"noreferrer\" target=\"_blank\" href=\"https://scikit-learn.org/1.4/modules/generated/sklearn.preprocessing.PolynomialFeatures.html\">?<span>Documentation for PolynomialFeatures</span></a></label><div class=\"sk-toggleable__content fitted\"><pre>PolynomialFeatures(include_bias=False)</pre></div> </div></div><div class=\"sk-item\"><div class=\"sk-estimator fitted sk-toggleable\"><input class=\"sk-toggleable__control sk-hidden--visually\" id=\"sk-estimator-id-4\" type=\"checkbox\" ><label for=\"sk-estimator-id-4\" class=\"sk-toggleable__label fitted sk-toggleable__label-arrow fitted\">&nbsp;SelectKBest<a class=\"sk-estimator-doc-link fitted\" rel=\"noreferrer\" target=\"_blank\" href=\"https://scikit-learn.org/1.4/modules/generated/sklearn.feature_selection.SelectKBest.html\">?<span>Documentation for SelectKBest</span></a></label><div class=\"sk-toggleable__content fitted\"><pre>SelectKBest()</pre></div> </div></div></div></div><div class=\"sk-item\"><div class=\"sk-estimator fitted sk-toggleable\"><input class=\"sk-toggleable__control sk-hidden--visually\" id=\"sk-estimator-id-5\" type=\"checkbox\" ><label for=\"sk-estimator-id-5\" class=\"sk-toggleable__label fitted sk-toggleable__label-arrow fitted\">&nbsp;StandardScaler<a class=\"sk-estimator-doc-link fitted\" rel=\"noreferrer\" target=\"_blank\" href=\"https://scikit-learn.org/1.4/modules/generated/sklearn.preprocessing.StandardScaler.html\">?<span>Documentation for StandardScaler</span></a></label><div class=\"sk-toggleable__content fitted\"><pre>StandardScaler()</pre></div> </div></div><div class=\"sk-item\"><div class=\"sk-estimator fitted sk-toggleable\"><input class=\"sk-toggleable__control sk-hidden--visually\" id=\"sk-estimator-id-6\" type=\"checkbox\" ><label for=\"sk-estimator-id-6\" class=\"sk-toggleable__label fitted sk-toggleable__label-arrow fitted\">&nbsp;SVC<a class=\"sk-estimator-doc-link fitted\" rel=\"noreferrer\" target=\"_blank\" href=\"https://scikit-learn.org/1.4/modules/generated/sklearn.svm.SVC.html\">?<span>Documentation for SVC</span></a></label><div class=\"sk-toggleable__content fitted\"><pre>SVC(random_state=0)</pre></div> </div></div></div></div></div></div>"
      ],
      "text/plain": [
       "Pipeline(steps=[('pipeline',\n",
       "                 Pipeline(steps=[('polynomialfeatures',\n",
       "                                  PolynomialFeatures(include_bias=False)),\n",
       "                                 ('selectkbest', SelectKBest())])),\n",
       "                ('standardscaler', StandardScaler()),\n",
       "                ('svc', SVC(random_state=0))])"
      ]
     },
     "execution_count": 119,
     "metadata": {},
     "output_type": "execute_result"
    }
   ],
   "source": [
    "SVM"
   ]
  },
  {
   "cell_type": "code",
   "execution_count": 120,
   "id": "adc210ae-1659-44b7-b50d-09f98786d43f",
   "metadata": {},
   "outputs": [],
   "source": [
    "hyper_params = {'svc__gamma':[1e-3, 1e-4, 0.0005],\n",
    "                'svc__C':[1, 10, 100, 1000, 3000], \n",
    "               'pipeline__polynomialfeatures__degree':[2, 3],\n",
    "               'pipeline__selectkbest__k': range(45, 60)}"
   ]
  },
  {
   "cell_type": "code",
   "execution_count": 121,
   "id": "948faad0-0f13-40f2-8a0c-a1f16e7c8eae",
   "metadata": {},
   "outputs": [
    {
     "name": "stderr",
     "output_type": "stream",
     "text": [
      "C:\\Users\\bensa\\anaconda3\\Lib\\site-packages\\sklearn\\feature_selection\\_univariate_selection.py:776: UserWarning: k=50 is greater than n_features=27. All the features will be returned.\n",
      "  warnings.warn(\n",
      "C:\\Users\\bensa\\anaconda3\\Lib\\site-packages\\sklearn\\feature_selection\\_univariate_selection.py:776: UserWarning: k=50 is greater than n_features=27. All the features will be returned.\n",
      "  warnings.warn(\n",
      "C:\\Users\\bensa\\anaconda3\\Lib\\site-packages\\sklearn\\feature_selection\\_univariate_selection.py:776: UserWarning: k=50 is greater than n_features=27. All the features will be returned.\n",
      "  warnings.warn(\n",
      "C:\\Users\\bensa\\anaconda3\\Lib\\site-packages\\sklearn\\feature_selection\\_univariate_selection.py:776: UserWarning: k=50 is greater than n_features=27. All the features will be returned.\n",
      "  warnings.warn(\n",
      "C:\\Users\\bensa\\anaconda3\\Lib\\site-packages\\sklearn\\feature_selection\\_univariate_selection.py:776: UserWarning: k=53 is greater than n_features=27. All the features will be returned.\n",
      "  warnings.warn(\n",
      "C:\\Users\\bensa\\anaconda3\\Lib\\site-packages\\sklearn\\feature_selection\\_univariate_selection.py:776: UserWarning: k=53 is greater than n_features=27. All the features will be returned.\n",
      "  warnings.warn(\n",
      "C:\\Users\\bensa\\anaconda3\\Lib\\site-packages\\sklearn\\feature_selection\\_univariate_selection.py:776: UserWarning: k=53 is greater than n_features=27. All the features will be returned.\n",
      "  warnings.warn(\n",
      "C:\\Users\\bensa\\anaconda3\\Lib\\site-packages\\sklearn\\feature_selection\\_univariate_selection.py:776: UserWarning: k=53 is greater than n_features=27. All the features will be returned.\n",
      "  warnings.warn(\n",
      "C:\\Users\\bensa\\anaconda3\\Lib\\site-packages\\sklearn\\feature_selection\\_univariate_selection.py:776: UserWarning: k=46 is greater than n_features=27. All the features will be returned.\n",
      "  warnings.warn(\n",
      "C:\\Users\\bensa\\anaconda3\\Lib\\site-packages\\sklearn\\feature_selection\\_univariate_selection.py:776: UserWarning: k=46 is greater than n_features=27. All the features will be returned.\n",
      "  warnings.warn(\n",
      "C:\\Users\\bensa\\anaconda3\\Lib\\site-packages\\sklearn\\feature_selection\\_univariate_selection.py:776: UserWarning: k=46 is greater than n_features=27. All the features will be returned.\n",
      "  warnings.warn(\n",
      "C:\\Users\\bensa\\anaconda3\\Lib\\site-packages\\sklearn\\feature_selection\\_univariate_selection.py:776: UserWarning: k=46 is greater than n_features=27. All the features will be returned.\n",
      "  warnings.warn(\n",
      "C:\\Users\\bensa\\anaconda3\\Lib\\site-packages\\sklearn\\feature_selection\\_univariate_selection.py:776: UserWarning: k=50 is greater than n_features=27. All the features will be returned.\n",
      "  warnings.warn(\n",
      "C:\\Users\\bensa\\anaconda3\\Lib\\site-packages\\sklearn\\feature_selection\\_univariate_selection.py:776: UserWarning: k=50 is greater than n_features=27. All the features will be returned.\n",
      "  warnings.warn(\n",
      "C:\\Users\\bensa\\anaconda3\\Lib\\site-packages\\sklearn\\feature_selection\\_univariate_selection.py:776: UserWarning: k=50 is greater than n_features=27. All the features will be returned.\n",
      "  warnings.warn(\n",
      "C:\\Users\\bensa\\anaconda3\\Lib\\site-packages\\sklearn\\feature_selection\\_univariate_selection.py:776: UserWarning: k=50 is greater than n_features=27. All the features will be returned.\n",
      "  warnings.warn(\n",
      "C:\\Users\\bensa\\anaconda3\\Lib\\site-packages\\sklearn\\feature_selection\\_univariate_selection.py:776: UserWarning: k=57 is greater than n_features=27. All the features will be returned.\n",
      "  warnings.warn(\n",
      "C:\\Users\\bensa\\anaconda3\\Lib\\site-packages\\sklearn\\feature_selection\\_univariate_selection.py:776: UserWarning: k=57 is greater than n_features=27. All the features will be returned.\n",
      "  warnings.warn(\n",
      "C:\\Users\\bensa\\anaconda3\\Lib\\site-packages\\sklearn\\feature_selection\\_univariate_selection.py:776: UserWarning: k=57 is greater than n_features=27. All the features will be returned.\n",
      "  warnings.warn(\n",
      "C:\\Users\\bensa\\anaconda3\\Lib\\site-packages\\sklearn\\feature_selection\\_univariate_selection.py:776: UserWarning: k=57 is greater than n_features=27. All the features will be returned.\n",
      "  warnings.warn(\n",
      "C:\\Users\\bensa\\anaconda3\\Lib\\site-packages\\sklearn\\feature_selection\\_univariate_selection.py:776: UserWarning: k=58 is greater than n_features=27. All the features will be returned.\n",
      "  warnings.warn(\n",
      "C:\\Users\\bensa\\anaconda3\\Lib\\site-packages\\sklearn\\feature_selection\\_univariate_selection.py:776: UserWarning: k=58 is greater than n_features=27. All the features will be returned.\n",
      "  warnings.warn(\n",
      "C:\\Users\\bensa\\anaconda3\\Lib\\site-packages\\sklearn\\feature_selection\\_univariate_selection.py:776: UserWarning: k=58 is greater than n_features=27. All the features will be returned.\n",
      "  warnings.warn(\n",
      "C:\\Users\\bensa\\anaconda3\\Lib\\site-packages\\sklearn\\feature_selection\\_univariate_selection.py:776: UserWarning: k=58 is greater than n_features=27. All the features will be returned.\n",
      "  warnings.warn(\n",
      "C:\\Users\\bensa\\anaconda3\\Lib\\site-packages\\sklearn\\feature_selection\\_univariate_selection.py:776: UserWarning: k=51 is greater than n_features=27. All the features will be returned.\n",
      "  warnings.warn(\n",
      "C:\\Users\\bensa\\anaconda3\\Lib\\site-packages\\sklearn\\feature_selection\\_univariate_selection.py:776: UserWarning: k=51 is greater than n_features=27. All the features will be returned.\n",
      "  warnings.warn(\n",
      "C:\\Users\\bensa\\anaconda3\\Lib\\site-packages\\sklearn\\feature_selection\\_univariate_selection.py:776: UserWarning: k=51 is greater than n_features=27. All the features will be returned.\n",
      "  warnings.warn(\n",
      "C:\\Users\\bensa\\anaconda3\\Lib\\site-packages\\sklearn\\feature_selection\\_univariate_selection.py:776: UserWarning: k=51 is greater than n_features=27. All the features will be returned.\n",
      "  warnings.warn(\n",
      "C:\\Users\\bensa\\anaconda3\\Lib\\site-packages\\sklearn\\feature_selection\\_univariate_selection.py:776: UserWarning: k=59 is greater than n_features=27. All the features will be returned.\n",
      "  warnings.warn(\n",
      "C:\\Users\\bensa\\anaconda3\\Lib\\site-packages\\sklearn\\feature_selection\\_univariate_selection.py:776: UserWarning: k=59 is greater than n_features=27. All the features will be returned.\n",
      "  warnings.warn(\n",
      "C:\\Users\\bensa\\anaconda3\\Lib\\site-packages\\sklearn\\feature_selection\\_univariate_selection.py:776: UserWarning: k=59 is greater than n_features=27. All the features will be returned.\n",
      "  warnings.warn(\n",
      "C:\\Users\\bensa\\anaconda3\\Lib\\site-packages\\sklearn\\feature_selection\\_univariate_selection.py:776: UserWarning: k=59 is greater than n_features=27. All the features will be returned.\n",
      "  warnings.warn(\n",
      "C:\\Users\\bensa\\anaconda3\\Lib\\site-packages\\sklearn\\feature_selection\\_univariate_selection.py:776: UserWarning: k=57 is greater than n_features=27. All the features will be returned.\n",
      "  warnings.warn(\n",
      "C:\\Users\\bensa\\anaconda3\\Lib\\site-packages\\sklearn\\feature_selection\\_univariate_selection.py:776: UserWarning: k=57 is greater than n_features=27. All the features will be returned.\n",
      "  warnings.warn(\n",
      "C:\\Users\\bensa\\anaconda3\\Lib\\site-packages\\sklearn\\feature_selection\\_univariate_selection.py:776: UserWarning: k=57 is greater than n_features=27. All the features will be returned.\n",
      "  warnings.warn(\n",
      "C:\\Users\\bensa\\anaconda3\\Lib\\site-packages\\sklearn\\feature_selection\\_univariate_selection.py:776: UserWarning: k=57 is greater than n_features=27. All the features will be returned.\n",
      "  warnings.warn(\n",
      "C:\\Users\\bensa\\anaconda3\\Lib\\site-packages\\sklearn\\feature_selection\\_univariate_selection.py:776: UserWarning: k=47 is greater than n_features=27. All the features will be returned.\n",
      "  warnings.warn(\n",
      "C:\\Users\\bensa\\anaconda3\\Lib\\site-packages\\sklearn\\feature_selection\\_univariate_selection.py:776: UserWarning: k=47 is greater than n_features=27. All the features will be returned.\n",
      "  warnings.warn(\n",
      "C:\\Users\\bensa\\anaconda3\\Lib\\site-packages\\sklearn\\feature_selection\\_univariate_selection.py:776: UserWarning: k=47 is greater than n_features=27. All the features will be returned.\n",
      "  warnings.warn(\n",
      "C:\\Users\\bensa\\anaconda3\\Lib\\site-packages\\sklearn\\feature_selection\\_univariate_selection.py:776: UserWarning: k=47 is greater than n_features=27. All the features will be returned.\n",
      "  warnings.warn(\n",
      "C:\\Users\\bensa\\anaconda3\\Lib\\site-packages\\sklearn\\feature_selection\\_univariate_selection.py:776: UserWarning: k=59 is greater than n_features=27. All the features will be returned.\n",
      "  warnings.warn(\n",
      "C:\\Users\\bensa\\anaconda3\\Lib\\site-packages\\sklearn\\feature_selection\\_univariate_selection.py:776: UserWarning: k=59 is greater than n_features=27. All the features will be returned.\n",
      "  warnings.warn(\n",
      "C:\\Users\\bensa\\anaconda3\\Lib\\site-packages\\sklearn\\feature_selection\\_univariate_selection.py:776: UserWarning: k=59 is greater than n_features=27. All the features will be returned.\n",
      "  warnings.warn(\n",
      "C:\\Users\\bensa\\anaconda3\\Lib\\site-packages\\sklearn\\feature_selection\\_univariate_selection.py:776: UserWarning: k=59 is greater than n_features=27. All the features will be returned.\n",
      "  warnings.warn(\n",
      "C:\\Users\\bensa\\anaconda3\\Lib\\site-packages\\sklearn\\feature_selection\\_univariate_selection.py:776: UserWarning: k=49 is greater than n_features=27. All the features will be returned.\n",
      "  warnings.warn(\n",
      "C:\\Users\\bensa\\anaconda3\\Lib\\site-packages\\sklearn\\feature_selection\\_univariate_selection.py:776: UserWarning: k=49 is greater than n_features=27. All the features will be returned.\n",
      "  warnings.warn(\n",
      "C:\\Users\\bensa\\anaconda3\\Lib\\site-packages\\sklearn\\feature_selection\\_univariate_selection.py:776: UserWarning: k=49 is greater than n_features=27. All the features will be returned.\n",
      "  warnings.warn(\n",
      "C:\\Users\\bensa\\anaconda3\\Lib\\site-packages\\sklearn\\feature_selection\\_univariate_selection.py:776: UserWarning: k=49 is greater than n_features=27. All the features will be returned.\n",
      "  warnings.warn(\n",
      "C:\\Users\\bensa\\anaconda3\\Lib\\site-packages\\sklearn\\feature_selection\\_univariate_selection.py:776: UserWarning: k=51 is greater than n_features=27. All the features will be returned.\n",
      "  warnings.warn(\n",
      "C:\\Users\\bensa\\anaconda3\\Lib\\site-packages\\sklearn\\feature_selection\\_univariate_selection.py:776: UserWarning: k=51 is greater than n_features=27. All the features will be returned.\n",
      "  warnings.warn(\n",
      "C:\\Users\\bensa\\anaconda3\\Lib\\site-packages\\sklearn\\feature_selection\\_univariate_selection.py:776: UserWarning: k=51 is greater than n_features=27. All the features will be returned.\n",
      "  warnings.warn(\n",
      "C:\\Users\\bensa\\anaconda3\\Lib\\site-packages\\sklearn\\feature_selection\\_univariate_selection.py:776: UserWarning: k=51 is greater than n_features=27. All the features will be returned.\n",
      "  warnings.warn(\n",
      "C:\\Users\\bensa\\anaconda3\\Lib\\site-packages\\sklearn\\feature_selection\\_univariate_selection.py:776: UserWarning: k=52 is greater than n_features=27. All the features will be returned.\n",
      "  warnings.warn(\n",
      "C:\\Users\\bensa\\anaconda3\\Lib\\site-packages\\sklearn\\feature_selection\\_univariate_selection.py:776: UserWarning: k=52 is greater than n_features=27. All the features will be returned.\n",
      "  warnings.warn(\n",
      "C:\\Users\\bensa\\anaconda3\\Lib\\site-packages\\sklearn\\feature_selection\\_univariate_selection.py:776: UserWarning: k=52 is greater than n_features=27. All the features will be returned.\n",
      "  warnings.warn(\n",
      "C:\\Users\\bensa\\anaconda3\\Lib\\site-packages\\sklearn\\feature_selection\\_univariate_selection.py:776: UserWarning: k=52 is greater than n_features=27. All the features will be returned.\n",
      "  warnings.warn(\n",
      "C:\\Users\\bensa\\anaconda3\\Lib\\site-packages\\sklearn\\feature_selection\\_univariate_selection.py:776: UserWarning: k=56 is greater than n_features=27. All the features will be returned.\n",
      "  warnings.warn(\n",
      "C:\\Users\\bensa\\anaconda3\\Lib\\site-packages\\sklearn\\feature_selection\\_univariate_selection.py:776: UserWarning: k=56 is greater than n_features=27. All the features will be returned.\n",
      "  warnings.warn(\n",
      "C:\\Users\\bensa\\anaconda3\\Lib\\site-packages\\sklearn\\feature_selection\\_univariate_selection.py:776: UserWarning: k=56 is greater than n_features=27. All the features will be returned.\n",
      "  warnings.warn(\n",
      "C:\\Users\\bensa\\anaconda3\\Lib\\site-packages\\sklearn\\feature_selection\\_univariate_selection.py:776: UserWarning: k=56 is greater than n_features=27. All the features will be returned.\n",
      "  warnings.warn(\n",
      "C:\\Users\\bensa\\anaconda3\\Lib\\site-packages\\sklearn\\feature_selection\\_univariate_selection.py:776: UserWarning: k=51 is greater than n_features=27. All the features will be returned.\n",
      "  warnings.warn(\n",
      "C:\\Users\\bensa\\anaconda3\\Lib\\site-packages\\sklearn\\feature_selection\\_univariate_selection.py:776: UserWarning: k=51 is greater than n_features=27. All the features will be returned.\n",
      "  warnings.warn(\n",
      "C:\\Users\\bensa\\anaconda3\\Lib\\site-packages\\sklearn\\feature_selection\\_univariate_selection.py:776: UserWarning: k=51 is greater than n_features=27. All the features will be returned.\n",
      "  warnings.warn(\n",
      "C:\\Users\\bensa\\anaconda3\\Lib\\site-packages\\sklearn\\feature_selection\\_univariate_selection.py:776: UserWarning: k=51 is greater than n_features=27. All the features will be returned.\n",
      "  warnings.warn(\n",
      "C:\\Users\\bensa\\anaconda3\\Lib\\site-packages\\sklearn\\feature_selection\\_univariate_selection.py:776: UserWarning: k=56 is greater than n_features=27. All the features will be returned.\n",
      "  warnings.warn(\n",
      "C:\\Users\\bensa\\anaconda3\\Lib\\site-packages\\sklearn\\feature_selection\\_univariate_selection.py:776: UserWarning: k=56 is greater than n_features=27. All the features will be returned.\n",
      "  warnings.warn(\n",
      "C:\\Users\\bensa\\anaconda3\\Lib\\site-packages\\sklearn\\feature_selection\\_univariate_selection.py:776: UserWarning: k=56 is greater than n_features=27. All the features will be returned.\n",
      "  warnings.warn(\n",
      "C:\\Users\\bensa\\anaconda3\\Lib\\site-packages\\sklearn\\feature_selection\\_univariate_selection.py:776: UserWarning: k=56 is greater than n_features=27. All the features will be returned.\n",
      "  warnings.warn(\n",
      "C:\\Users\\bensa\\anaconda3\\Lib\\site-packages\\sklearn\\feature_selection\\_univariate_selection.py:776: UserWarning: k=51 is greater than n_features=27. All the features will be returned.\n",
      "  warnings.warn(\n",
      "C:\\Users\\bensa\\anaconda3\\Lib\\site-packages\\sklearn\\feature_selection\\_univariate_selection.py:776: UserWarning: k=51 is greater than n_features=27. All the features will be returned.\n",
      "  warnings.warn(\n",
      "C:\\Users\\bensa\\anaconda3\\Lib\\site-packages\\sklearn\\feature_selection\\_univariate_selection.py:776: UserWarning: k=51 is greater than n_features=27. All the features will be returned.\n",
      "  warnings.warn(\n",
      "C:\\Users\\bensa\\anaconda3\\Lib\\site-packages\\sklearn\\feature_selection\\_univariate_selection.py:776: UserWarning: k=51 is greater than n_features=27. All the features will be returned.\n",
      "  warnings.warn(\n",
      "C:\\Users\\bensa\\anaconda3\\Lib\\site-packages\\sklearn\\feature_selection\\_univariate_selection.py:776: UserWarning: k=54 is greater than n_features=27. All the features will be returned.\n",
      "  warnings.warn(\n",
      "C:\\Users\\bensa\\anaconda3\\Lib\\site-packages\\sklearn\\feature_selection\\_univariate_selection.py:776: UserWarning: k=54 is greater than n_features=27. All the features will be returned.\n",
      "  warnings.warn(\n",
      "C:\\Users\\bensa\\anaconda3\\Lib\\site-packages\\sklearn\\feature_selection\\_univariate_selection.py:776: UserWarning: k=54 is greater than n_features=27. All the features will be returned.\n",
      "  warnings.warn(\n",
      "C:\\Users\\bensa\\anaconda3\\Lib\\site-packages\\sklearn\\feature_selection\\_univariate_selection.py:776: UserWarning: k=54 is greater than n_features=27. All the features will be returned.\n",
      "  warnings.warn(\n",
      "C:\\Users\\bensa\\anaconda3\\Lib\\site-packages\\sklearn\\feature_selection\\_univariate_selection.py:776: UserWarning: k=57 is greater than n_features=27. All the features will be returned.\n",
      "  warnings.warn(\n",
      "C:\\Users\\bensa\\anaconda3\\Lib\\site-packages\\sklearn\\feature_selection\\_univariate_selection.py:776: UserWarning: k=57 is greater than n_features=27. All the features will be returned.\n",
      "  warnings.warn(\n",
      "C:\\Users\\bensa\\anaconda3\\Lib\\site-packages\\sklearn\\feature_selection\\_univariate_selection.py:776: UserWarning: k=57 is greater than n_features=27. All the features will be returned.\n",
      "  warnings.warn(\n",
      "C:\\Users\\bensa\\anaconda3\\Lib\\site-packages\\sklearn\\feature_selection\\_univariate_selection.py:776: UserWarning: k=57 is greater than n_features=27. All the features will be returned.\n",
      "  warnings.warn(\n",
      "C:\\Users\\bensa\\anaconda3\\Lib\\site-packages\\sklearn\\feature_selection\\_univariate_selection.py:776: UserWarning: k=53 is greater than n_features=27. All the features will be returned.\n",
      "  warnings.warn(\n",
      "C:\\Users\\bensa\\anaconda3\\Lib\\site-packages\\sklearn\\feature_selection\\_univariate_selection.py:776: UserWarning: k=53 is greater than n_features=27. All the features will be returned.\n",
      "  warnings.warn(\n",
      "C:\\Users\\bensa\\anaconda3\\Lib\\site-packages\\sklearn\\feature_selection\\_univariate_selection.py:776: UserWarning: k=53 is greater than n_features=27. All the features will be returned.\n",
      "  warnings.warn(\n",
      "C:\\Users\\bensa\\anaconda3\\Lib\\site-packages\\sklearn\\feature_selection\\_univariate_selection.py:776: UserWarning: k=53 is greater than n_features=27. All the features will be returned.\n",
      "  warnings.warn(\n",
      "C:\\Users\\bensa\\anaconda3\\Lib\\site-packages\\sklearn\\feature_selection\\_univariate_selection.py:776: UserWarning: k=45 is greater than n_features=27. All the features will be returned.\n",
      "  warnings.warn(\n",
      "C:\\Users\\bensa\\anaconda3\\Lib\\site-packages\\sklearn\\feature_selection\\_univariate_selection.py:776: UserWarning: k=45 is greater than n_features=27. All the features will be returned.\n",
      "  warnings.warn(\n",
      "C:\\Users\\bensa\\anaconda3\\Lib\\site-packages\\sklearn\\feature_selection\\_univariate_selection.py:776: UserWarning: k=45 is greater than n_features=27. All the features will be returned.\n",
      "  warnings.warn(\n",
      "C:\\Users\\bensa\\anaconda3\\Lib\\site-packages\\sklearn\\feature_selection\\_univariate_selection.py:776: UserWarning: k=45 is greater than n_features=27. All the features will be returned.\n",
      "  warnings.warn(\n",
      "C:\\Users\\bensa\\anaconda3\\Lib\\site-packages\\sklearn\\feature_selection\\_univariate_selection.py:776: UserWarning: k=56 is greater than n_features=27. All the features will be returned.\n",
      "  warnings.warn(\n",
      "C:\\Users\\bensa\\anaconda3\\Lib\\site-packages\\sklearn\\feature_selection\\_univariate_selection.py:776: UserWarning: k=56 is greater than n_features=27. All the features will be returned.\n",
      "  warnings.warn(\n",
      "C:\\Users\\bensa\\anaconda3\\Lib\\site-packages\\sklearn\\feature_selection\\_univariate_selection.py:776: UserWarning: k=56 is greater than n_features=27. All the features will be returned.\n",
      "  warnings.warn(\n",
      "C:\\Users\\bensa\\anaconda3\\Lib\\site-packages\\sklearn\\feature_selection\\_univariate_selection.py:776: UserWarning: k=56 is greater than n_features=27. All the features will be returned.\n",
      "  warnings.warn(\n",
      "C:\\Users\\bensa\\anaconda3\\Lib\\site-packages\\sklearn\\feature_selection\\_univariate_selection.py:776: UserWarning: k=55 is greater than n_features=27. All the features will be returned.\n",
      "  warnings.warn(\n",
      "C:\\Users\\bensa\\anaconda3\\Lib\\site-packages\\sklearn\\feature_selection\\_univariate_selection.py:776: UserWarning: k=55 is greater than n_features=27. All the features will be returned.\n",
      "  warnings.warn(\n",
      "C:\\Users\\bensa\\anaconda3\\Lib\\site-packages\\sklearn\\feature_selection\\_univariate_selection.py:776: UserWarning: k=55 is greater than n_features=27. All the features will be returned.\n",
      "  warnings.warn(\n",
      "C:\\Users\\bensa\\anaconda3\\Lib\\site-packages\\sklearn\\feature_selection\\_univariate_selection.py:776: UserWarning: k=55 is greater than n_features=27. All the features will be returned.\n",
      "  warnings.warn(\n",
      "C:\\Users\\bensa\\anaconda3\\Lib\\site-packages\\sklearn\\feature_selection\\_univariate_selection.py:776: UserWarning: k=57 is greater than n_features=27. All the features will be returned.\n",
      "  warnings.warn(\n",
      "C:\\Users\\bensa\\anaconda3\\Lib\\site-packages\\sklearn\\feature_selection\\_univariate_selection.py:776: UserWarning: k=57 is greater than n_features=27. All the features will be returned.\n",
      "  warnings.warn(\n",
      "C:\\Users\\bensa\\anaconda3\\Lib\\site-packages\\sklearn\\feature_selection\\_univariate_selection.py:776: UserWarning: k=57 is greater than n_features=27. All the features will be returned.\n",
      "  warnings.warn(\n",
      "C:\\Users\\bensa\\anaconda3\\Lib\\site-packages\\sklearn\\feature_selection\\_univariate_selection.py:776: UserWarning: k=57 is greater than n_features=27. All the features will be returned.\n",
      "  warnings.warn(\n",
      "C:\\Users\\bensa\\anaconda3\\Lib\\site-packages\\sklearn\\feature_selection\\_univariate_selection.py:776: UserWarning: k=52 is greater than n_features=27. All the features will be returned.\n",
      "  warnings.warn(\n",
      "C:\\Users\\bensa\\anaconda3\\Lib\\site-packages\\sklearn\\feature_selection\\_univariate_selection.py:776: UserWarning: k=52 is greater than n_features=27. All the features will be returned.\n",
      "  warnings.warn(\n",
      "C:\\Users\\bensa\\anaconda3\\Lib\\site-packages\\sklearn\\feature_selection\\_univariate_selection.py:776: UserWarning: k=52 is greater than n_features=27. All the features will be returned.\n",
      "  warnings.warn(\n",
      "C:\\Users\\bensa\\anaconda3\\Lib\\site-packages\\sklearn\\feature_selection\\_univariate_selection.py:776: UserWarning: k=52 is greater than n_features=27. All the features will be returned.\n",
      "  warnings.warn(\n"
     ]
    },
    {
     "name": "stdout",
     "output_type": "stream",
     "text": [
      "{'svc__gamma': 0.0001, 'svc__C': 1, 'pipeline__selectkbest__k': 58, 'pipeline__polynomialfeatures__degree': 2}\n",
      "              precision    recall  f1-score   support\n",
      "\n",
      "           0       0.43      0.45      0.44        20\n",
      "           1       0.39      0.37      0.38        19\n",
      "\n",
      "    accuracy                           0.41        39\n",
      "   macro avg       0.41      0.41      0.41        39\n",
      "weighted avg       0.41      0.41      0.41        39\n",
      "\n"
     ]
    },
    {
     "name": "stderr",
     "output_type": "stream",
     "text": [
      "C:\\Users\\bensa\\anaconda3\\Lib\\site-packages\\sklearn\\feature_selection\\_univariate_selection.py:776: UserWarning: k=58 is greater than n_features=27. All the features will be returned.\n",
      "  warnings.warn(\n",
      "C:\\Users\\bensa\\anaconda3\\Lib\\site-packages\\sklearn\\feature_selection\\_univariate_selection.py:776: UserWarning: k=58 is greater than n_features=27. All the features will be returned.\n",
      "  warnings.warn(\n",
      "C:\\Users\\bensa\\anaconda3\\Lib\\site-packages\\sklearn\\feature_selection\\_univariate_selection.py:776: UserWarning: k=58 is greater than n_features=27. All the features will be returned.\n",
      "  warnings.warn(\n",
      "C:\\Users\\bensa\\anaconda3\\Lib\\site-packages\\sklearn\\feature_selection\\_univariate_selection.py:776: UserWarning: k=58 is greater than n_features=27. All the features will be returned.\n",
      "  warnings.warn(\n",
      "C:\\Users\\bensa\\anaconda3\\Lib\\site-packages\\sklearn\\feature_selection\\_univariate_selection.py:776: UserWarning: k=58 is greater than n_features=27. All the features will be returned.\n",
      "  warnings.warn(\n"
     ]
    }
   ],
   "source": [
    "grid = RandomizedSearchCV(SVM, hyper_params, scoring='recall', cv=4,\n",
    "                          n_iter=40)\n",
    "\n",
    "grid.fit(X_train, y_train)\n",
    "\n",
    "print(grid.best_params_)\n",
    "\n",
    "y_pred = grid.predict(X_test)\n",
    "\n",
    "print(classification_report(y_test, y_pred))"
   ]
  },
  {
   "cell_type": "code",
   "execution_count": 122,
   "id": "e086e596-8cc1-4130-b716-0cf852a4c40b",
   "metadata": {},
   "outputs": [
    {
     "name": "stderr",
     "output_type": "stream",
     "text": [
      "C:\\Users\\bensa\\anaconda3\\Lib\\site-packages\\sklearn\\feature_selection\\_univariate_selection.py:776: UserWarning: k=58 is greater than n_features=27. All the features will be returned.\n",
      "  warnings.warn(\n",
      "C:\\Users\\bensa\\anaconda3\\Lib\\site-packages\\sklearn\\feature_selection\\_univariate_selection.py:776: UserWarning: k=58 is greater than n_features=27. All the features will be returned.\n",
      "  warnings.warn(\n",
      "C:\\Users\\bensa\\anaconda3\\Lib\\site-packages\\sklearn\\feature_selection\\_univariate_selection.py:776: UserWarning: k=58 is greater than n_features=27. All the features will be returned.\n",
      "  warnings.warn(\n",
      "C:\\Users\\bensa\\anaconda3\\Lib\\site-packages\\sklearn\\feature_selection\\_univariate_selection.py:776: UserWarning: k=58 is greater than n_features=27. All the features will be returned.\n",
      "  warnings.warn(\n",
      "C:\\Users\\bensa\\anaconda3\\Lib\\site-packages\\sklearn\\feature_selection\\_univariate_selection.py:776: UserWarning: k=58 is greater than n_features=27. All the features will be returned.\n",
      "  warnings.warn(\n",
      "C:\\Users\\bensa\\anaconda3\\Lib\\site-packages\\sklearn\\feature_selection\\_univariate_selection.py:776: UserWarning: k=58 is greater than n_features=27. All the features will be returned.\n",
      "  warnings.warn(\n",
      "C:\\Users\\bensa\\anaconda3\\Lib\\site-packages\\sklearn\\feature_selection\\_univariate_selection.py:776: UserWarning: k=58 is greater than n_features=27. All the features will be returned.\n",
      "  warnings.warn(\n"
     ]
    },
    {
     "name": "stdout",
     "output_type": "stream",
     "text": [
      "[[ 9 11]\n",
      " [12  7]]\n",
      "              precision    recall  f1-score   support\n",
      "\n",
      "           0       0.43      0.45      0.44        20\n",
      "           1       0.39      0.37      0.38        19\n",
      "\n",
      "    accuracy                           0.41        39\n",
      "   macro avg       0.41      0.41      0.41        39\n",
      "weighted avg       0.41      0.41      0.41        39\n",
      "\n"
     ]
    },
    {
     "name": "stderr",
     "output_type": "stream",
     "text": [
      "C:\\Users\\bensa\\anaconda3\\Lib\\site-packages\\sklearn\\feature_selection\\_univariate_selection.py:776: UserWarning: k=58 is greater than n_features=27. All the features will be returned.\n",
      "  warnings.warn(\n",
      "C:\\Users\\bensa\\anaconda3\\Lib\\site-packages\\sklearn\\feature_selection\\_univariate_selection.py:776: UserWarning: k=58 is greater than n_features=27. All the features will be returned.\n",
      "  warnings.warn(\n",
      "C:\\Users\\bensa\\anaconda3\\Lib\\site-packages\\sklearn\\feature_selection\\_univariate_selection.py:776: UserWarning: k=58 is greater than n_features=27. All the features will be returned.\n",
      "  warnings.warn(\n",
      "C:\\Users\\bensa\\anaconda3\\Lib\\site-packages\\sklearn\\feature_selection\\_univariate_selection.py:776: UserWarning: k=58 is greater than n_features=27. All the features will be returned.\n",
      "  warnings.warn(\n",
      "C:\\Users\\bensa\\anaconda3\\Lib\\site-packages\\sklearn\\feature_selection\\_univariate_selection.py:776: UserWarning: k=58 is greater than n_features=27. All the features will be returned.\n",
      "  warnings.warn(\n",
      "C:\\Users\\bensa\\anaconda3\\Lib\\site-packages\\sklearn\\feature_selection\\_univariate_selection.py:776: UserWarning: k=58 is greater than n_features=27. All the features will be returned.\n",
      "  warnings.warn(\n",
      "C:\\Users\\bensa\\anaconda3\\Lib\\site-packages\\sklearn\\feature_selection\\_univariate_selection.py:776: UserWarning: k=58 is greater than n_features=27. All the features will be returned.\n",
      "  warnings.warn(\n",
      "C:\\Users\\bensa\\anaconda3\\Lib\\site-packages\\sklearn\\feature_selection\\_univariate_selection.py:776: UserWarning: k=58 is greater than n_features=27. All the features will be returned.\n",
      "  warnings.warn(\n",
      "C:\\Users\\bensa\\anaconda3\\Lib\\site-packages\\sklearn\\feature_selection\\_univariate_selection.py:776: UserWarning: k=58 is greater than n_features=27. All the features will be returned.\n",
      "  warnings.warn(\n",
      "C:\\Users\\bensa\\anaconda3\\Lib\\site-packages\\sklearn\\feature_selection\\_univariate_selection.py:776: UserWarning: k=58 is greater than n_features=27. All the features will be returned.\n",
      "  warnings.warn(\n",
      "C:\\Users\\bensa\\anaconda3\\Lib\\site-packages\\sklearn\\feature_selection\\_univariate_selection.py:776: UserWarning: k=58 is greater than n_features=27. All the features will be returned.\n",
      "  warnings.warn(\n",
      "C:\\Users\\bensa\\anaconda3\\Lib\\site-packages\\sklearn\\feature_selection\\_univariate_selection.py:776: UserWarning: k=58 is greater than n_features=27. All the features will be returned.\n",
      "  warnings.warn(\n",
      "C:\\Users\\bensa\\anaconda3\\Lib\\site-packages\\sklearn\\feature_selection\\_univariate_selection.py:776: UserWarning: k=58 is greater than n_features=27. All the features will be returned.\n",
      "  warnings.warn(\n",
      "C:\\Users\\bensa\\anaconda3\\Lib\\site-packages\\sklearn\\feature_selection\\_univariate_selection.py:776: UserWarning: k=58 is greater than n_features=27. All the features will be returned.\n",
      "  warnings.warn(\n",
      "C:\\Users\\bensa\\anaconda3\\Lib\\site-packages\\sklearn\\feature_selection\\_univariate_selection.py:776: UserWarning: k=58 is greater than n_features=27. All the features will be returned.\n",
      "  warnings.warn(\n",
      "C:\\Users\\bensa\\anaconda3\\Lib\\site-packages\\sklearn\\feature_selection\\_univariate_selection.py:776: UserWarning: k=58 is greater than n_features=27. All the features will be returned.\n",
      "  warnings.warn(\n",
      "C:\\Users\\bensa\\anaconda3\\Lib\\site-packages\\sklearn\\feature_selection\\_univariate_selection.py:776: UserWarning: k=58 is greater than n_features=27. All the features will be returned.\n",
      "  warnings.warn(\n",
      "C:\\Users\\bensa\\anaconda3\\Lib\\site-packages\\sklearn\\feature_selection\\_univariate_selection.py:776: UserWarning: k=58 is greater than n_features=27. All the features will be returned.\n",
      "  warnings.warn(\n",
      "C:\\Users\\bensa\\anaconda3\\Lib\\site-packages\\sklearn\\feature_selection\\_univariate_selection.py:776: UserWarning: k=58 is greater than n_features=27. All the features will be returned.\n",
      "  warnings.warn(\n",
      "C:\\Users\\bensa\\anaconda3\\Lib\\site-packages\\sklearn\\feature_selection\\_univariate_selection.py:776: UserWarning: k=58 is greater than n_features=27. All the features will be returned.\n",
      "  warnings.warn(\n",
      "C:\\Users\\bensa\\anaconda3\\Lib\\site-packages\\sklearn\\feature_selection\\_univariate_selection.py:776: UserWarning: k=58 is greater than n_features=27. All the features will be returned.\n",
      "  warnings.warn(\n",
      "C:\\Users\\bensa\\anaconda3\\Lib\\site-packages\\sklearn\\feature_selection\\_univariate_selection.py:776: UserWarning: k=58 is greater than n_features=27. All the features will be returned.\n",
      "  warnings.warn(\n",
      "C:\\Users\\bensa\\anaconda3\\Lib\\site-packages\\sklearn\\feature_selection\\_univariate_selection.py:776: UserWarning: k=58 is greater than n_features=27. All the features will be returned.\n",
      "  warnings.warn(\n",
      "C:\\Users\\bensa\\anaconda3\\Lib\\site-packages\\sklearn\\feature_selection\\_univariate_selection.py:776: UserWarning: k=58 is greater than n_features=27. All the features will be returned.\n",
      "  warnings.warn(\n",
      "C:\\Users\\bensa\\anaconda3\\Lib\\site-packages\\sklearn\\feature_selection\\_univariate_selection.py:776: UserWarning: k=58 is greater than n_features=27. All the features will be returned.\n",
      "  warnings.warn(\n",
      "C:\\Users\\bensa\\anaconda3\\Lib\\site-packages\\sklearn\\feature_selection\\_univariate_selection.py:776: UserWarning: k=58 is greater than n_features=27. All the features will be returned.\n",
      "  warnings.warn(\n",
      "C:\\Users\\bensa\\anaconda3\\Lib\\site-packages\\sklearn\\feature_selection\\_univariate_selection.py:776: UserWarning: k=58 is greater than n_features=27. All the features will be returned.\n",
      "  warnings.warn(\n",
      "C:\\Users\\bensa\\anaconda3\\Lib\\site-packages\\sklearn\\feature_selection\\_univariate_selection.py:776: UserWarning: k=58 is greater than n_features=27. All the features will be returned.\n",
      "  warnings.warn(\n",
      "C:\\Users\\bensa\\anaconda3\\Lib\\site-packages\\sklearn\\feature_selection\\_univariate_selection.py:776: UserWarning: k=58 is greater than n_features=27. All the features will be returned.\n",
      "  warnings.warn(\n",
      "C:\\Users\\bensa\\anaconda3\\Lib\\site-packages\\sklearn\\feature_selection\\_univariate_selection.py:776: UserWarning: k=58 is greater than n_features=27. All the features will be returned.\n",
      "  warnings.warn(\n",
      "C:\\Users\\bensa\\anaconda3\\Lib\\site-packages\\sklearn\\feature_selection\\_univariate_selection.py:776: UserWarning: k=58 is greater than n_features=27. All the features will be returned.\n",
      "  warnings.warn(\n",
      "C:\\Users\\bensa\\anaconda3\\Lib\\site-packages\\sklearn\\feature_selection\\_univariate_selection.py:776: UserWarning: k=58 is greater than n_features=27. All the features will be returned.\n",
      "  warnings.warn(\n",
      "C:\\Users\\bensa\\anaconda3\\Lib\\site-packages\\sklearn\\feature_selection\\_univariate_selection.py:776: UserWarning: k=58 is greater than n_features=27. All the features will be returned.\n",
      "  warnings.warn(\n",
      "C:\\Users\\bensa\\anaconda3\\Lib\\site-packages\\sklearn\\feature_selection\\_univariate_selection.py:776: UserWarning: k=58 is greater than n_features=27. All the features will be returned.\n",
      "  warnings.warn(\n"
     ]
    },
    {
     "data": {
      "image/png": "[encoded data removed]",
      "text/plain": [
       "<Figure size 1200x800 with 1 Axes>"
      ]
     },
     "metadata": {},
     "output_type": "display_data"
    }
   ],
   "source": [
    "evaluation(grid.best_estimator_)"
   ]
  },
  {
   "cell_type": "markdown",
   "id": "a20b8936-b4e5-45d0-9ff2-b3a5f986174a",
   "metadata": {},
   "source": [
    "## Precision Recall Curve"
   ]
  },
  {
   "cell_type": "code",
   "execution_count": 124,
   "id": "bef6889e-0a73-4746-8b5d-5736fd7676fb",
   "metadata": {},
   "outputs": [
    {
     "data": {
      "text/plain": [
       "<matplotlib.legend.Legend at 0x253e13824e0>"
      ]
     },
     "execution_count": 124,
     "metadata": {},
     "output_type": "execute_result"
    },
    {
     "data": {
      "image/png": "[encoded data removed]",
      "text/plain": [
       "<Figure size 640x480 with 1 Axes>"
      ]
     },
     "metadata": {},
     "output_type": "display_data"
    }
   ],
   "source": [
    "from sklearn.metrics import precision_recall_curve\n",
    "precision, recall, threshold = precision_recall_curve(y_test, grid.best_estimator_.decision_function(X_test))\n",
    "plt.plot(threshold, precision[:-1], label='precision')\n",
    "plt.plot(threshold, recall[:-1], label='recall')\n",
    "plt.legend()"
   ]
  },
  {
   "cell_type": "markdown",
   "id": "494d0f3c-f48c-49da-b62c-77480bd95632",
   "metadata": {},
   "source": [
    "# saving the model"
   ]
  },
  {
   "cell_type": "code",
   "execution_count": 144,
   "id": "e7eb203b-7fad-40e4-88ee-58d99eee1431",
   "metadata": {},
   "outputs": [
    {
     "name": "stdout",
     "output_type": "stream",
     "text": [
      "<class 'sklearn.pipeline.Pipeline'>\n"
     ]
    }
   ],
   "source": [
    "print(type(model))"
   ]
  },
  {
   "cell_type": "code",
   "execution_count": 146,
   "id": "160cc963-05e9-4912-a4a4-1a0600e196aa",
   "metadata": {},
   "outputs": [
    {
     "data": {
      "text/plain": [
       "['model.pkl']"
      ]
     },
     "execution_count": 146,
     "metadata": {},
     "output_type": "execute_result"
    }
   ],
   "source": [
    "from sklearn.pipeline import Pipeline\n",
    "from sklearn.preprocessing import StandardScaler\n",
    "from sklearn.svm import SVC\n",
    "import joblib\n",
    "\n",
    "# Création du pipeline\n",
    "pipeline = Pipeline([\n",
    "    ('scaler', StandardScaler()),\n",
    "    ('clf', SVC())\n",
    "])\n",
    "\n",
    "# Entraînement du pipeline\n",
    "pipeline.fit(X_train, y_train)\n",
    "\n",
    "# Enregistrement des composants\n",
    "joblib.dump(pipeline.named_steps['scaler'], 'scaler.pkl')\n",
    "joblib.dump(pipeline.named_steps['clf'], 'model.pkl')"
   ]
  },
  {
   "cell_type": "code",
   "execution_count": null,
   "id": "d5846d25-06eb-41b5-8d3e-fff50fd5fe1a",
   "metadata": {},
   "outputs": [],
   "source": []
  },
  {
   "cell_type": "code",
   "execution_count": null,
   "id": "e3abfa5a-fec6-40f0-aaf0-37933567f66f",
   "metadata": {},
   "outputs": [],
   "source": []
  },
  {
   "cell_type": "code",
   "execution_count": null,
   "id": "bcf1b57a-e224-4ea3-ae25-f0f3719dfd07",
   "metadata": {},
   "outputs": [],
   "source": []
  },
  {
   "cell_type": "code",
   "execution_count": null,
   "id": "f47e6a7a-902b-4d5d-aea6-d0ffffac232a",
   "metadata": {},
   "outputs": [],
   "source": []
  },
  {
   "cell_type": "code",
   "execution_count": null,
   "id": "f746179c-8eb6-4f9d-91a4-4844c8290b1d",
   "metadata": {},
   "outputs": [],
   "source": []
  },
  {
   "cell_type": "code",
   "execution_count": null,
   "id": "98da9c1d-e429-4dd8-952f-fab5ea155af6",
   "metadata": {},
   "outputs": [],
   "source": []
  },
  {
   "cell_type": "code",
   "execution_count": null,
   "id": "0013619f-d12f-4b13-8dca-affbde3c46d5",
   "metadata": {},
   "outputs": [],
   "source": []
  },
  {
   "cell_type": "code",
   "execution_count": null,
   "id": "b7e3d311-9e15-4576-a924-5561cb90e0f0",
   "metadata": {},
   "outputs": [],
   "source": []
  },
  {
   "cell_type": "code",
   "execution_count": null,
   "id": "9c85a45b-c18c-4faf-9fce-2e1911ec8b9b",
   "metadata": {},
   "outputs": [],
   "source": []
  },
  {
   "cell_type": "code",
   "execution_count": null,
   "id": "c1535f80-84b7-4aa9-902e-02661caee011",
   "metadata": {},
   "outputs": [],
   "source": []
  },
  {
   "cell_type": "code",
   "execution_count": null,
   "id": "e854d680-043c-4686-b755-4eced124ade4",
   "metadata": {},
   "outputs": [],
   "source": []
  },
  {
   "cell_type": "code",
   "execution_count": null,
   "id": "21ba6a9e-6f6a-4265-827e-42ca4621f4e7",
   "metadata": {},
   "outputs": [],
   "source": []
  },
  {
   "cell_type": "code",
   "execution_count": null,
   "id": "da321f90-e594-443f-bec7-98edb313054e",
   "metadata": {},
   "outputs": [],
   "source": []
  },
  {
   "cell_type": "code",
   "execution_count": null,
   "id": "a233aa67-5773-41bf-b187-3244bf21f4ea",
   "metadata": {},
   "outputs": [],
   "source": []
  },
  {
   "cell_type": "code",
   "execution_count": null,
   "id": "a4a2f2a9-bd2a-41c5-ae09-930a714084ee",
   "metadata": {},
   "outputs": [],
   "source": []
  },
  {
   "cell_type": "code",
   "execution_count": null,
   "id": "c720fdaa-4b75-44a4-a437-37e56252c0ab",
   "metadata": {},
   "outputs": [],
   "source": []
  },
  {
   "cell_type": "code",
   "execution_count": null,
   "id": "c2e774d5-1c56-4c24-9164-e61e45ca40ff",
   "metadata": {},
   "outputs": [],
   "source": []
  },
  {
   "cell_type": "code",
   "execution_count": null,
   "id": "c8bd22e0-e5ac-4a1d-bfa7-fe7486e1d9b8",
   "metadata": {},
   "outputs": [],
   "source": []
  },
  {
   "cell_type": "code",
   "execution_count": null,
   "id": "99f323ae-0e06-42b6-8953-526998f815c6",
   "metadata": {},
   "outputs": [],
   "source": []
  }
 ],
 "metadata": {
  "kernelspec": {
   "display_name": "Python 3 (ipykernel)",
   "language": "python",
   "name": "python3"
  },
  "language_info": {
   "codemirror_mode": {
    "name": "ipython",
    "version": 3
   },
   "file_extension": ".py",
   "mimetype": "text/x-python",
   "name": "python",
   "nbconvert_exporter": "python",
   "pygments_lexer": "ipython3",
   "version": "3.12.4"
  }
 },
 "nbformat": 4,
 "nbformat_minor": 5
}
